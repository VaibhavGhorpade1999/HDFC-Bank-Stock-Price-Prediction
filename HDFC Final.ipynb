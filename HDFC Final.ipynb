{
 "cells": [
  {
   "cell_type": "code",
   "execution_count": 566,
   "id": "9d9dff82-65d6-483f-9afb-567a9431e276",
   "metadata": {},
   "outputs": [],
   "source": [
    "import pandas as pd"
   ]
  },
  {
   "cell_type": "code",
   "execution_count": 567,
   "id": "e6b10914-88a0-4996-929b-ad2a9929e415",
   "metadata": {},
   "outputs": [],
   "source": [
    "df=pd.read_csv('IndianFinancialNews.csv')"
   ]
  },
  {
   "cell_type": "code",
   "execution_count": 568,
   "id": "70657ddb-fb35-4943-9393-4b5fb7c6bf67",
   "metadata": {},
   "outputs": [
    {
     "data": {
      "text/html": [
       "<div>\n",
       "<style scoped>\n",
       "    .dataframe tbody tr th:only-of-type {\n",
       "        vertical-align: middle;\n",
       "    }\n",
       "\n",
       "    .dataframe tbody tr th {\n",
       "        vertical-align: top;\n",
       "    }\n",
       "\n",
       "    .dataframe thead th {\n",
       "        text-align: right;\n",
       "    }\n",
       "</style>\n",
       "<table border=\"1\" class=\"dataframe\">\n",
       "  <thead>\n",
       "    <tr style=\"text-align: right;\">\n",
       "      <th></th>\n",
       "      <th>Unnamed: 0</th>\n",
       "      <th>Date</th>\n",
       "      <th>Title</th>\n",
       "      <th>Description</th>\n",
       "    </tr>\n",
       "  </thead>\n",
       "  <tbody>\n",
       "    <tr>\n",
       "      <th>0</th>\n",
       "      <td>0</td>\n",
       "      <td>May 26, 2020, Tuesday</td>\n",
       "      <td>ATMs to become virtual bank branches, accept d...</td>\n",
       "      <td>Close to 14.6 per cent (or 35,000) of the 240,...</td>\n",
       "    </tr>\n",
       "    <tr>\n",
       "      <th>1</th>\n",
       "      <td>1</td>\n",
       "      <td>May 26, 2020, Tuesday</td>\n",
       "      <td>IDFC First Bank seniors to forgo 65% of bonus ...</td>\n",
       "      <td>V Vaidyanathan, managing director and chief ex...</td>\n",
       "    </tr>\n",
       "    <tr>\n",
       "      <th>2</th>\n",
       "      <td>2</td>\n",
       "      <td>May 25, 2020, Monday</td>\n",
       "      <td>Huge scam in YES Bank for many years, says Enf...</td>\n",
       "      <td>Rana Kapoor's wife also charged with abetting ...</td>\n",
       "    </tr>\n",
       "    <tr>\n",
       "      <th>3</th>\n",
       "      <td>3</td>\n",
       "      <td>May 24, 2020, Sunday</td>\n",
       "      <td>Bank of Maharashtra sanctioned Rs 2,789 cr in ...</td>\n",
       "      <td>The bank said it was now gearing up to extend ...</td>\n",
       "    </tr>\n",
       "    <tr>\n",
       "      <th>4</th>\n",
       "      <td>4</td>\n",
       "      <td>May 23, 2020, Saturday</td>\n",
       "      <td>DCB Bank's profit before tax declines 37.6% to...</td>\n",
       "      <td>Net profit for the financial year ended March ...</td>\n",
       "    </tr>\n",
       "  </tbody>\n",
       "</table>\n",
       "</div>"
      ],
      "text/plain": [
       "   Unnamed: 0                    Date  \\\n",
       "0           0   May 26, 2020, Tuesday   \n",
       "1           1   May 26, 2020, Tuesday   \n",
       "2           2    May 25, 2020, Monday   \n",
       "3           3    May 24, 2020, Sunday   \n",
       "4           4  May 23, 2020, Saturday   \n",
       "\n",
       "                                               Title  \\\n",
       "0  ATMs to become virtual bank branches, accept d...   \n",
       "1  IDFC First Bank seniors to forgo 65% of bonus ...   \n",
       "2  Huge scam in YES Bank for many years, says Enf...   \n",
       "3  Bank of Maharashtra sanctioned Rs 2,789 cr in ...   \n",
       "4  DCB Bank's profit before tax declines 37.6% to...   \n",
       "\n",
       "                                         Description  \n",
       "0  Close to 14.6 per cent (or 35,000) of the 240,...  \n",
       "1  V Vaidyanathan, managing director and chief ex...  \n",
       "2  Rana Kapoor's wife also charged with abetting ...  \n",
       "3  The bank said it was now gearing up to extend ...  \n",
       "4  Net profit for the financial year ended March ...  "
      ]
     },
     "execution_count": 568,
     "metadata": {},
     "output_type": "execute_result"
    }
   ],
   "source": [
    "df.head()"
   ]
  },
  {
   "cell_type": "code",
   "execution_count": null,
   "id": "2ef4149a-4a44-4f49-982c-5cd81d9e7e95",
   "metadata": {},
   "outputs": [],
   "source": []
  },
  {
   "cell_type": "code",
   "execution_count": 569,
   "id": "5052327c-3a51-4388-a41e-52c9369d95fa",
   "metadata": {},
   "outputs": [
    {
     "data": {
      "text/plain": [
       "Unnamed: 0       0\n",
       "Date             0\n",
       "Title            0\n",
       "Description    710\n",
       "dtype: int64"
      ]
     },
     "execution_count": 569,
     "metadata": {},
     "output_type": "execute_result"
    }
   ],
   "source": [
    "df.isnull().sum()"
   ]
  },
  {
   "cell_type": "code",
   "execution_count": 570,
   "id": "4fd245ce-1566-46c8-88d0-2efd49df0f7b",
   "metadata": {},
   "outputs": [
    {
     "data": {
      "text/html": [
       "<div>\n",
       "<style scoped>\n",
       "    .dataframe tbody tr th:only-of-type {\n",
       "        vertical-align: middle;\n",
       "    }\n",
       "\n",
       "    .dataframe tbody tr th {\n",
       "        vertical-align: top;\n",
       "    }\n",
       "\n",
       "    .dataframe thead th {\n",
       "        text-align: right;\n",
       "    }\n",
       "</style>\n",
       "<table border=\"1\" class=\"dataframe\">\n",
       "  <thead>\n",
       "    <tr style=\"text-align: right;\">\n",
       "      <th></th>\n",
       "      <th>Date</th>\n",
       "      <th>Description</th>\n",
       "    </tr>\n",
       "  </thead>\n",
       "  <tbody>\n",
       "    <tr>\n",
       "      <th>0</th>\n",
       "      <td>May 26, 2020, Tuesday</td>\n",
       "      <td>Close to 14.6 per cent (or 35,000) of the 240,...</td>\n",
       "    </tr>\n",
       "    <tr>\n",
       "      <th>1</th>\n",
       "      <td>May 26, 2020, Tuesday</td>\n",
       "      <td>V Vaidyanathan, managing director and chief ex...</td>\n",
       "    </tr>\n",
       "    <tr>\n",
       "      <th>2</th>\n",
       "      <td>May 25, 2020, Monday</td>\n",
       "      <td>Rana Kapoor's wife also charged with abetting ...</td>\n",
       "    </tr>\n",
       "    <tr>\n",
       "      <th>3</th>\n",
       "      <td>May 24, 2020, Sunday</td>\n",
       "      <td>The bank said it was now gearing up to extend ...</td>\n",
       "    </tr>\n",
       "    <tr>\n",
       "      <th>4</th>\n",
       "      <td>May 23, 2020, Saturday</td>\n",
       "      <td>Net profit for the financial year ended March ...</td>\n",
       "    </tr>\n",
       "    <tr>\n",
       "      <th>...</th>\n",
       "      <td>...</td>\n",
       "      <td>...</td>\n",
       "    </tr>\n",
       "    <tr>\n",
       "      <th>49995</th>\n",
       "      <td>February 11, 2003, Tuesday</td>\n",
       "      <td>Lic Mops Up Government Securities As Prices Crash</td>\n",
       "    </tr>\n",
       "    <tr>\n",
       "      <th>49996</th>\n",
       "      <td>February 11, 2003, Tuesday</td>\n",
       "      <td>Banks Plan To Raise Lending Rates Without Alte...</td>\n",
       "    </tr>\n",
       "    <tr>\n",
       "      <th>49997</th>\n",
       "      <td>February 10, 2003, Monday</td>\n",
       "      <td>Net Scheduled Inflows Of Rs 1,559.9 Crore</td>\n",
       "    </tr>\n",
       "    <tr>\n",
       "      <th>49998</th>\n",
       "      <td>February 10, 2003, Monday</td>\n",
       "      <td>Rbi Calls Meet To Push Floating Rate Deposits</td>\n",
       "    </tr>\n",
       "    <tr>\n",
       "      <th>49999</th>\n",
       "      <td>February 10, 2003, Monday</td>\n",
       "      <td>Sticky Loans Divide Consortiums</td>\n",
       "    </tr>\n",
       "  </tbody>\n",
       "</table>\n",
       "<p>50000 rows × 2 columns</p>\n",
       "</div>"
      ],
      "text/plain": [
       "                             Date  \\\n",
       "0           May 26, 2020, Tuesday   \n",
       "1           May 26, 2020, Tuesday   \n",
       "2            May 25, 2020, Monday   \n",
       "3            May 24, 2020, Sunday   \n",
       "4          May 23, 2020, Saturday   \n",
       "...                           ...   \n",
       "49995  February 11, 2003, Tuesday   \n",
       "49996  February 11, 2003, Tuesday   \n",
       "49997   February 10, 2003, Monday   \n",
       "49998   February 10, 2003, Monday   \n",
       "49999   February 10, 2003, Monday   \n",
       "\n",
       "                                             Description  \n",
       "0      Close to 14.6 per cent (or 35,000) of the 240,...  \n",
       "1      V Vaidyanathan, managing director and chief ex...  \n",
       "2      Rana Kapoor's wife also charged with abetting ...  \n",
       "3      The bank said it was now gearing up to extend ...  \n",
       "4      Net profit for the financial year ended March ...  \n",
       "...                                                  ...  \n",
       "49995  Lic Mops Up Government Securities As Prices Crash  \n",
       "49996  Banks Plan To Raise Lending Rates Without Alte...  \n",
       "49997          Net Scheduled Inflows Of Rs 1,559.9 Crore  \n",
       "49998      Rbi Calls Meet To Push Floating Rate Deposits  \n",
       "49999                    Sticky Loans Divide Consortiums  \n",
       "\n",
       "[50000 rows x 2 columns]"
      ]
     },
     "execution_count": 570,
     "metadata": {},
     "output_type": "execute_result"
    }
   ],
   "source": [
    "df.drop(['Unnamed: 0','Title'],axis=1)"
   ]
  },
  {
   "cell_type": "code",
   "execution_count": null,
   "id": "4b1a167d-c483-4be6-8254-6c821e0987ae",
   "metadata": {},
   "outputs": [],
   "source": []
  },
  {
   "cell_type": "code",
   "execution_count": 571,
   "id": "3a473f7a-0d30-45e1-b78a-0ab079159672",
   "metadata": {},
   "outputs": [],
   "source": [
    "#df['Date']=pd.to_datetime(df['Date'])"
   ]
  },
  {
   "cell_type": "code",
   "execution_count": 572,
   "id": "d8f3595c-fdb1-4cc2-bc71-b1db003c5f09",
   "metadata": {},
   "outputs": [],
   "source": [
    "#df=df.set_index(df['Date'])"
   ]
  },
  {
   "cell_type": "code",
   "execution_count": 573,
   "id": "cce66211-6179-4bf5-8315-ee87c7d6727e",
   "metadata": {},
   "outputs": [
    {
     "data": {
      "text/html": [
       "<div>\n",
       "<style scoped>\n",
       "    .dataframe tbody tr th:only-of-type {\n",
       "        vertical-align: middle;\n",
       "    }\n",
       "\n",
       "    .dataframe tbody tr th {\n",
       "        vertical-align: top;\n",
       "    }\n",
       "\n",
       "    .dataframe thead th {\n",
       "        text-align: right;\n",
       "    }\n",
       "</style>\n",
       "<table border=\"1\" class=\"dataframe\">\n",
       "  <thead>\n",
       "    <tr style=\"text-align: right;\">\n",
       "      <th></th>\n",
       "      <th>Unnamed: 0</th>\n",
       "      <th>Date</th>\n",
       "      <th>Title</th>\n",
       "      <th>Description</th>\n",
       "    </tr>\n",
       "  </thead>\n",
       "  <tbody>\n",
       "    <tr>\n",
       "      <th>0</th>\n",
       "      <td>0</td>\n",
       "      <td>May 26, 2020, Tuesday</td>\n",
       "      <td>ATMs to become virtual bank branches, accept d...</td>\n",
       "      <td>Close to 14.6 per cent (or 35,000) of the 240,...</td>\n",
       "    </tr>\n",
       "    <tr>\n",
       "      <th>1</th>\n",
       "      <td>1</td>\n",
       "      <td>May 26, 2020, Tuesday</td>\n",
       "      <td>IDFC First Bank seniors to forgo 65% of bonus ...</td>\n",
       "      <td>V Vaidyanathan, managing director and chief ex...</td>\n",
       "    </tr>\n",
       "    <tr>\n",
       "      <th>2</th>\n",
       "      <td>2</td>\n",
       "      <td>May 25, 2020, Monday</td>\n",
       "      <td>Huge scam in YES Bank for many years, says Enf...</td>\n",
       "      <td>Rana Kapoor's wife also charged with abetting ...</td>\n",
       "    </tr>\n",
       "    <tr>\n",
       "      <th>3</th>\n",
       "      <td>3</td>\n",
       "      <td>May 24, 2020, Sunday</td>\n",
       "      <td>Bank of Maharashtra sanctioned Rs 2,789 cr in ...</td>\n",
       "      <td>The bank said it was now gearing up to extend ...</td>\n",
       "    </tr>\n",
       "    <tr>\n",
       "      <th>4</th>\n",
       "      <td>4</td>\n",
       "      <td>May 23, 2020, Saturday</td>\n",
       "      <td>DCB Bank's profit before tax declines 37.6% to...</td>\n",
       "      <td>Net profit for the financial year ended March ...</td>\n",
       "    </tr>\n",
       "  </tbody>\n",
       "</table>\n",
       "</div>"
      ],
      "text/plain": [
       "   Unnamed: 0                    Date  \\\n",
       "0           0   May 26, 2020, Tuesday   \n",
       "1           1   May 26, 2020, Tuesday   \n",
       "2           2    May 25, 2020, Monday   \n",
       "3           3    May 24, 2020, Sunday   \n",
       "4           4  May 23, 2020, Saturday   \n",
       "\n",
       "                                               Title  \\\n",
       "0  ATMs to become virtual bank branches, accept d...   \n",
       "1  IDFC First Bank seniors to forgo 65% of bonus ...   \n",
       "2  Huge scam in YES Bank for many years, says Enf...   \n",
       "3  Bank of Maharashtra sanctioned Rs 2,789 cr in ...   \n",
       "4  DCB Bank's profit before tax declines 37.6% to...   \n",
       "\n",
       "                                         Description  \n",
       "0  Close to 14.6 per cent (or 35,000) of the 240,...  \n",
       "1  V Vaidyanathan, managing director and chief ex...  \n",
       "2  Rana Kapoor's wife also charged with abetting ...  \n",
       "3  The bank said it was now gearing up to extend ...  \n",
       "4  Net profit for the financial year ended March ...  "
      ]
     },
     "execution_count": 573,
     "metadata": {},
     "output_type": "execute_result"
    }
   ],
   "source": [
    "df.head()"
   ]
  },
  {
   "cell_type": "code",
   "execution_count": 574,
   "id": "1994eae6-2231-44fd-8e07-d67a1ca72d93",
   "metadata": {},
   "outputs": [
    {
     "data": {
      "text/html": [
       "<div>\n",
       "<style scoped>\n",
       "    .dataframe tbody tr th:only-of-type {\n",
       "        vertical-align: middle;\n",
       "    }\n",
       "\n",
       "    .dataframe tbody tr th {\n",
       "        vertical-align: top;\n",
       "    }\n",
       "\n",
       "    .dataframe thead th {\n",
       "        text-align: right;\n",
       "    }\n",
       "</style>\n",
       "<table border=\"1\" class=\"dataframe\">\n",
       "  <thead>\n",
       "    <tr style=\"text-align: right;\">\n",
       "      <th></th>\n",
       "      <th>Title</th>\n",
       "    </tr>\n",
       "  </thead>\n",
       "  <tbody>\n",
       "    <tr>\n",
       "      <th>0</th>\n",
       "      <td>ATMs to become virtual bank branches, accept d...</td>\n",
       "    </tr>\n",
       "    <tr>\n",
       "      <th>1</th>\n",
       "      <td>IDFC First Bank seniors to forgo 65% of bonus ...</td>\n",
       "    </tr>\n",
       "    <tr>\n",
       "      <th>2</th>\n",
       "      <td>Huge scam in YES Bank for many years, says Enf...</td>\n",
       "    </tr>\n",
       "    <tr>\n",
       "      <th>3</th>\n",
       "      <td>Bank of Maharashtra sanctioned Rs 2,789 cr in ...</td>\n",
       "    </tr>\n",
       "    <tr>\n",
       "      <th>4</th>\n",
       "      <td>DCB Bank's profit before tax declines 37.6% to...</td>\n",
       "    </tr>\n",
       "    <tr>\n",
       "      <th>...</th>\n",
       "      <td>...</td>\n",
       "    </tr>\n",
       "    <tr>\n",
       "      <th>49995</th>\n",
       "      <td>Lic Mops Up Government Securities As Prices Crash</td>\n",
       "    </tr>\n",
       "    <tr>\n",
       "      <th>49996</th>\n",
       "      <td>Banks Plan To Raise Lending Rates Without Alte...</td>\n",
       "    </tr>\n",
       "    <tr>\n",
       "      <th>49997</th>\n",
       "      <td>Net Scheduled Inflows Of Rs 1,559.9 Crore</td>\n",
       "    </tr>\n",
       "    <tr>\n",
       "      <th>49998</th>\n",
       "      <td>Rbi Calls Meet To Push Floating Rate Deposits</td>\n",
       "    </tr>\n",
       "    <tr>\n",
       "      <th>49999</th>\n",
       "      <td>Sticky Loans Divide Consortiums</td>\n",
       "    </tr>\n",
       "  </tbody>\n",
       "</table>\n",
       "<p>50000 rows × 1 columns</p>\n",
       "</div>"
      ],
      "text/plain": [
       "                                                   Title\n",
       "0      ATMs to become virtual bank branches, accept d...\n",
       "1      IDFC First Bank seniors to forgo 65% of bonus ...\n",
       "2      Huge scam in YES Bank for many years, says Enf...\n",
       "3      Bank of Maharashtra sanctioned Rs 2,789 cr in ...\n",
       "4      DCB Bank's profit before tax declines 37.6% to...\n",
       "...                                                  ...\n",
       "49995  Lic Mops Up Government Securities As Prices Crash\n",
       "49996  Banks Plan To Raise Lending Rates Without Alte...\n",
       "49997          Net Scheduled Inflows Of Rs 1,559.9 Crore\n",
       "49998      Rbi Calls Meet To Push Floating Rate Deposits\n",
       "49999                    Sticky Loans Divide Consortiums\n",
       "\n",
       "[50000 rows x 1 columns]"
      ]
     },
     "execution_count": 574,
     "metadata": {},
     "output_type": "execute_result"
    }
   ],
   "source": [
    "df.drop(['Unnamed: 0','Date','Description'],axis=1)"
   ]
  },
  {
   "cell_type": "code",
   "execution_count": 575,
   "id": "3d8fa393-1163-40ed-b810-c6999e2aee35",
   "metadata": {},
   "outputs": [],
   "source": [
    "#df['Date']=pd.to_datetime(df['Date'])"
   ]
  },
  {
   "cell_type": "code",
   "execution_count": 576,
   "id": "c2dfd773-980a-4dc3-b942-a6cbe8ec3be3",
   "metadata": {},
   "outputs": [],
   "source": [
    "#df=df.set_index(df['Date'])"
   ]
  },
  {
   "cell_type": "code",
   "execution_count": 577,
   "id": "c44b8f0a-b3fc-4116-9ddc-3e5e7d6ba397",
   "metadata": {},
   "outputs": [],
   "source": [
    "df=df.drop(['Unnamed: 0','Description'],axis=1)"
   ]
  },
  {
   "cell_type": "code",
   "execution_count": 578,
   "id": "daa3770e-d4bf-4084-a731-e562d87ae55f",
   "metadata": {},
   "outputs": [
    {
     "name": "stdout",
     "output_type": "stream",
     "text": [
      "<class 'pandas.core.frame.DataFrame'>\n",
      "RangeIndex: 50000 entries, 0 to 49999\n",
      "Data columns (total 2 columns):\n",
      " #   Column  Non-Null Count  Dtype \n",
      "---  ------  --------------  ----- \n",
      " 0   Date    50000 non-null  object\n",
      " 1   Title   50000 non-null  object\n",
      "dtypes: object(2)\n",
      "memory usage: 781.4+ KB\n"
     ]
    }
   ],
   "source": [
    "df.info()"
   ]
  },
  {
   "cell_type": "code",
   "execution_count": 579,
   "id": "35802da2-f6f8-4ef9-8114-20d347f30862",
   "metadata": {},
   "outputs": [],
   "source": [
    "df=df.dropna()"
   ]
  },
  {
   "cell_type": "code",
   "execution_count": 580,
   "id": "c8715349-c4ed-46be-a7f8-9d574b596fce",
   "metadata": {},
   "outputs": [],
   "source": [
    "import numpy as np"
   ]
  },
  {
   "cell_type": "code",
   "execution_count": 581,
   "id": "a92bd3c8-894d-4f1b-9b2c-dbad78e3d704",
   "metadata": {},
   "outputs": [],
   "source": [
    "c=[]\n",
    "a=['dcb','maharashtra','idfc','yes','kotakbank','indusindbk','axisbank','sbin','baroda','canara','overseas','punjab']\n",
    "for j in range(0,len(df)):\n",
    "    for i in str(df['Title'].iloc[j]).lower().split():\n",
    "        if i in a:\n",
    "            df.replace({df['Title'].iloc[j]:np.nan},inplace=True)\n",
    "            break"
   ]
  },
  {
   "cell_type": "code",
   "execution_count": 582,
   "id": "dd0c498e-0cec-4c37-b479-3727dbf67bc2",
   "metadata": {},
   "outputs": [
    {
     "data": {
      "text/plain": [
       "Date        0\n",
       "Title    2056\n",
       "dtype: int64"
      ]
     },
     "execution_count": 582,
     "metadata": {},
     "output_type": "execute_result"
    }
   ],
   "source": [
    "df.isnull().sum()"
   ]
  },
  {
   "cell_type": "code",
   "execution_count": 583,
   "id": "d41c35b9-5113-4913-ba3d-2c9a441bb48b",
   "metadata": {},
   "outputs": [
    {
     "data": {
      "text/html": [
       "<div>\n",
       "<style scoped>\n",
       "    .dataframe tbody tr th:only-of-type {\n",
       "        vertical-align: middle;\n",
       "    }\n",
       "\n",
       "    .dataframe tbody tr th {\n",
       "        vertical-align: top;\n",
       "    }\n",
       "\n",
       "    .dataframe thead th {\n",
       "        text-align: right;\n",
       "    }\n",
       "</style>\n",
       "<table border=\"1\" class=\"dataframe\">\n",
       "  <thead>\n",
       "    <tr style=\"text-align: right;\">\n",
       "      <th></th>\n",
       "      <th>Date</th>\n",
       "      <th>Title</th>\n",
       "    </tr>\n",
       "  </thead>\n",
       "  <tbody>\n",
       "    <tr>\n",
       "      <th>0</th>\n",
       "      <td>May 26, 2020, Tuesday</td>\n",
       "      <td>ATMs to become virtual bank branches, accept d...</td>\n",
       "    </tr>\n",
       "    <tr>\n",
       "      <th>1</th>\n",
       "      <td>May 26, 2020, Tuesday</td>\n",
       "      <td>NaN</td>\n",
       "    </tr>\n",
       "    <tr>\n",
       "      <th>2</th>\n",
       "      <td>May 25, 2020, Monday</td>\n",
       "      <td>NaN</td>\n",
       "    </tr>\n",
       "    <tr>\n",
       "      <th>3</th>\n",
       "      <td>May 24, 2020, Sunday</td>\n",
       "      <td>NaN</td>\n",
       "    </tr>\n",
       "    <tr>\n",
       "      <th>4</th>\n",
       "      <td>May 23, 2020, Saturday</td>\n",
       "      <td>NaN</td>\n",
       "    </tr>\n",
       "  </tbody>\n",
       "</table>\n",
       "</div>"
      ],
      "text/plain": [
       "                     Date                                              Title\n",
       "0   May 26, 2020, Tuesday  ATMs to become virtual bank branches, accept d...\n",
       "1   May 26, 2020, Tuesday                                                NaN\n",
       "2    May 25, 2020, Monday                                                NaN\n",
       "3    May 24, 2020, Sunday                                                NaN\n",
       "4  May 23, 2020, Saturday                                                NaN"
      ]
     },
     "execution_count": 583,
     "metadata": {},
     "output_type": "execute_result"
    }
   ],
   "source": [
    "df.head()"
   ]
  },
  {
   "cell_type": "code",
   "execution_count": 584,
   "id": "1a237270-3f65-454b-9e01-1b09158ddfae",
   "metadata": {},
   "outputs": [],
   "source": [
    "df=df.dropna()"
   ]
  },
  {
   "cell_type": "code",
   "execution_count": null,
   "id": "de6305c6-64d8-4547-a142-da8ab2aa1c1c",
   "metadata": {},
   "outputs": [],
   "source": []
  },
  {
   "cell_type": "code",
   "execution_count": 585,
   "id": "ec91d753-9278-431e-90d8-c7709dfd0060",
   "metadata": {},
   "outputs": [],
   "source": [
    "from textblob import TextBlob"
   ]
  },
  {
   "cell_type": "code",
   "execution_count": 586,
   "id": "f7d57509-6583-4117-97bf-dd60da775e45",
   "metadata": {},
   "outputs": [],
   "source": [
    "import nltk"
   ]
  },
  {
   "cell_type": "code",
   "execution_count": 587,
   "id": "9ff66413-12be-4595-aa0d-4db97f7c607e",
   "metadata": {},
   "outputs": [],
   "source": [
    "from nltk.sentiment.vader import SentimentIntensityAnalyzer"
   ]
  },
  {
   "cell_type": "code",
   "execution_count": 588,
   "id": "cf8077e1-0e99-4348-a665-0611020517f3",
   "metadata": {},
   "outputs": [],
   "source": [
    "sent= SentimentIntensityAnalyzer()"
   ]
  },
  {
   "cell_type": "code",
   "execution_count": 589,
   "id": "71ac5eeb-3f29-4ab8-bcba-fa893cfc2ed7",
   "metadata": {},
   "outputs": [],
   "source": [
    "sent1=TextBlob(df.iloc[0][1])"
   ]
  },
  {
   "cell_type": "code",
   "execution_count": 590,
   "id": "330373e4-457f-4858-be91-6dab6555b469",
   "metadata": {},
   "outputs": [],
   "source": [
    "s=[]\n",
    "for i in range(0,df.shape[0]):\n",
    "    score=TextBlob(df.iloc[i][1]).sentiment\n",
    "    c=score[0]\n",
    "    s.append(c)\n",
    "    "
   ]
  },
  {
   "cell_type": "code",
   "execution_count": 591,
   "id": "e79052dd-c6cd-4f1a-9f06-f33a7611d42c",
   "metadata": {},
   "outputs": [],
   "source": [
    "df['sentiments']=s"
   ]
  },
  {
   "cell_type": "code",
   "execution_count": 592,
   "id": "7a3052af-b0c8-4126-b61c-922e886a1307",
   "metadata": {},
   "outputs": [
    {
     "data": {
      "text/html": [
       "<div>\n",
       "<style scoped>\n",
       "    .dataframe tbody tr th:only-of-type {\n",
       "        vertical-align: middle;\n",
       "    }\n",
       "\n",
       "    .dataframe tbody tr th {\n",
       "        vertical-align: top;\n",
       "    }\n",
       "\n",
       "    .dataframe thead th {\n",
       "        text-align: right;\n",
       "    }\n",
       "</style>\n",
       "<table border=\"1\" class=\"dataframe\">\n",
       "  <thead>\n",
       "    <tr style=\"text-align: right;\">\n",
       "      <th></th>\n",
       "      <th>Date</th>\n",
       "      <th>Title</th>\n",
       "      <th>sentiments</th>\n",
       "    </tr>\n",
       "  </thead>\n",
       "  <tbody>\n",
       "    <tr>\n",
       "      <th>0</th>\n",
       "      <td>May 26, 2020, Tuesday</td>\n",
       "      <td>ATMs to become virtual bank branches, accept d...</td>\n",
       "      <td>0.0000</td>\n",
       "    </tr>\n",
       "    <tr>\n",
       "      <th>6</th>\n",
       "      <td>May 22, 2020, Friday</td>\n",
       "      <td>Retail, MSME loans to get cheaper as RBI cuts ...</td>\n",
       "      <td>0.1000</td>\n",
       "    </tr>\n",
       "    <tr>\n",
       "      <th>7</th>\n",
       "      <td>May 22, 2020, Friday</td>\n",
       "      <td>RBI forecasts economic contraction, announces ...</td>\n",
       "      <td>0.0375</td>\n",
       "    </tr>\n",
       "    <tr>\n",
       "      <th>8</th>\n",
       "      <td>May 22, 2020, Friday</td>\n",
       "      <td>RBI extends loan moratorium till Aug 31, silen...</td>\n",
       "      <td>0.0000</td>\n",
       "    </tr>\n",
       "    <tr>\n",
       "      <th>9</th>\n",
       "      <td>May 22, 2020, Friday</td>\n",
       "      <td>Govt seeks to raise Rs 14,000 cr from second t...</td>\n",
       "      <td>0.0000</td>\n",
       "    </tr>\n",
       "  </tbody>\n",
       "</table>\n",
       "</div>"
      ],
      "text/plain": [
       "                    Date                                              Title  \\\n",
       "0  May 26, 2020, Tuesday  ATMs to become virtual bank branches, accept d...   \n",
       "6   May 22, 2020, Friday  Retail, MSME loans to get cheaper as RBI cuts ...   \n",
       "7   May 22, 2020, Friday  RBI forecasts economic contraction, announces ...   \n",
       "8   May 22, 2020, Friday  RBI extends loan moratorium till Aug 31, silen...   \n",
       "9   May 22, 2020, Friday  Govt seeks to raise Rs 14,000 cr from second t...   \n",
       "\n",
       "   sentiments  \n",
       "0      0.0000  \n",
       "6      0.1000  \n",
       "7      0.0375  \n",
       "8      0.0000  \n",
       "9      0.0000  "
      ]
     },
     "execution_count": 592,
     "metadata": {},
     "output_type": "execute_result"
    }
   ],
   "source": [
    "df.head()"
   ]
  },
  {
   "cell_type": "code",
   "execution_count": 593,
   "id": "8b148043-41f8-4b90-9426-0e4538cf6241",
   "metadata": {},
   "outputs": [],
   "source": [
    "new_df=df.groupby(['Date'],as_index=False)['sentiments'].mean()"
   ]
  },
  {
   "cell_type": "code",
   "execution_count": 594,
   "id": "4642b4e9-a6e9-43f0-b37d-0752aeec3c60",
   "metadata": {},
   "outputs": [
    {
     "data": {
      "text/plain": [
       "(6037, 2)"
      ]
     },
     "execution_count": 594,
     "metadata": {},
     "output_type": "execute_result"
    }
   ],
   "source": [
    "new_df.shape"
   ]
  },
  {
   "cell_type": "code",
   "execution_count": 595,
   "id": "abbc34eb-78c9-40ee-8d71-b7b2d99ff984",
   "metadata": {},
   "outputs": [],
   "source": [
    "df=pd.DataFrame(new_df)"
   ]
  },
  {
   "cell_type": "code",
   "execution_count": 596,
   "id": "73994329-9920-4fae-ab81-176b751f4d3e",
   "metadata": {},
   "outputs": [
    {
     "data": {
      "text/html": [
       "<div>\n",
       "<style scoped>\n",
       "    .dataframe tbody tr th:only-of-type {\n",
       "        vertical-align: middle;\n",
       "    }\n",
       "\n",
       "    .dataframe tbody tr th {\n",
       "        vertical-align: top;\n",
       "    }\n",
       "\n",
       "    .dataframe thead th {\n",
       "        text-align: right;\n",
       "    }\n",
       "</style>\n",
       "<table border=\"1\" class=\"dataframe\">\n",
       "  <thead>\n",
       "    <tr style=\"text-align: right;\">\n",
       "      <th></th>\n",
       "      <th>Date</th>\n",
       "      <th>sentiments</th>\n",
       "    </tr>\n",
       "  </thead>\n",
       "  <tbody>\n",
       "    <tr>\n",
       "      <th>0</th>\n",
       "      <td>April 01, 2003, Tuesday</td>\n",
       "      <td>0.035714</td>\n",
       "    </tr>\n",
       "    <tr>\n",
       "      <th>1</th>\n",
       "      <td>April 01, 2004, Thursday</td>\n",
       "      <td>0.000000</td>\n",
       "    </tr>\n",
       "    <tr>\n",
       "      <th>2</th>\n",
       "      <td>April 01, 2005, Friday</td>\n",
       "      <td>-0.077143</td>\n",
       "    </tr>\n",
       "    <tr>\n",
       "      <th>3</th>\n",
       "      <td>April 01, 2006, Saturday</td>\n",
       "      <td>0.137143</td>\n",
       "    </tr>\n",
       "    <tr>\n",
       "      <th>4</th>\n",
       "      <td>April 01, 2007, Sunday</td>\n",
       "      <td>0.000000</td>\n",
       "    </tr>\n",
       "  </tbody>\n",
       "</table>\n",
       "</div>"
      ],
      "text/plain": [
       "                       Date  sentiments\n",
       "0   April 01, 2003, Tuesday    0.035714\n",
       "1  April 01, 2004, Thursday    0.000000\n",
       "2    April 01, 2005, Friday   -0.077143\n",
       "3  April 01, 2006, Saturday    0.137143\n",
       "4    April 01, 2007, Sunday    0.000000"
      ]
     },
     "execution_count": 596,
     "metadata": {},
     "output_type": "execute_result"
    }
   ],
   "source": [
    "df.head()"
   ]
  },
  {
   "cell_type": "code",
   "execution_count": 597,
   "id": "c6c2cc57-4243-4355-b8c9-843675cbfcb2",
   "metadata": {},
   "outputs": [
    {
     "name": "stdout",
     "output_type": "stream",
     "text": [
      "<class 'pandas.core.frame.DataFrame'>\n",
      "RangeIndex: 6037 entries, 0 to 6036\n",
      "Data columns (total 2 columns):\n",
      " #   Column      Non-Null Count  Dtype  \n",
      "---  ------      --------------  -----  \n",
      " 0   Date        6037 non-null   object \n",
      " 1   sentiments  6037 non-null   float64\n",
      "dtypes: float64(1), object(1)\n",
      "memory usage: 94.5+ KB\n"
     ]
    }
   ],
   "source": [
    "df.info()"
   ]
  },
  {
   "cell_type": "code",
   "execution_count": 598,
   "id": "4e9f60d5-6ac7-4acb-98e6-799fe85a1669",
   "metadata": {},
   "outputs": [],
   "source": [
    "df['Date']=pd.to_datetime(df['Date'],infer_datetime_format=True)"
   ]
  },
  {
   "cell_type": "code",
   "execution_count": 599,
   "id": "c33220ac-3a41-4a23-af92-ff4bf741fd57",
   "metadata": {},
   "outputs": [],
   "source": [
    "df=df.set_index('Date')"
   ]
  },
  {
   "cell_type": "code",
   "execution_count": 600,
   "id": "bc7f5183-4bf1-4c2c-8997-4bdd81980d19",
   "metadata": {},
   "outputs": [
    {
     "name": "stdout",
     "output_type": "stream",
     "text": [
      "<class 'pandas.core.frame.DataFrame'>\n",
      "DatetimeIndex: 6037 entries, 2003-04-01 to 2019-09-30\n",
      "Data columns (total 1 columns):\n",
      " #   Column      Non-Null Count  Dtype  \n",
      "---  ------      --------------  -----  \n",
      " 0   sentiments  6037 non-null   float64\n",
      "dtypes: float64(1)\n",
      "memory usage: 94.3 KB\n"
     ]
    }
   ],
   "source": [
    "df.info()"
   ]
  },
  {
   "cell_type": "code",
   "execution_count": 601,
   "id": "6e037218-a377-43f9-89b4-c097e32acfd2",
   "metadata": {},
   "outputs": [],
   "source": [
    "######"
   ]
  },
  {
   "cell_type": "code",
   "execution_count": 602,
   "id": "ad5a3b0c-ff21-4e9e-b1b9-355fd8e73d65",
   "metadata": {},
   "outputs": [],
   "source": [
    "new_df=pd.read_csv('HDFC.csv',infer_datetime_format=True)"
   ]
  },
  {
   "cell_type": "code",
   "execution_count": 603,
   "id": "0e722312-c113-4664-af4a-613e64be9f26",
   "metadata": {},
   "outputs": [
    {
     "data": {
      "text/html": [
       "<div>\n",
       "<style scoped>\n",
       "    .dataframe tbody tr th:only-of-type {\n",
       "        vertical-align: middle;\n",
       "    }\n",
       "\n",
       "    .dataframe tbody tr th {\n",
       "        vertical-align: top;\n",
       "    }\n",
       "\n",
       "    .dataframe thead th {\n",
       "        text-align: right;\n",
       "    }\n",
       "</style>\n",
       "<table border=\"1\" class=\"dataframe\">\n",
       "  <thead>\n",
       "    <tr style=\"text-align: right;\">\n",
       "      <th></th>\n",
       "      <th>Date</th>\n",
       "      <th>Symbol</th>\n",
       "      <th>Series</th>\n",
       "      <th>Prev Close</th>\n",
       "      <th>Open</th>\n",
       "      <th>High</th>\n",
       "      <th>Low</th>\n",
       "      <th>Last</th>\n",
       "      <th>Close</th>\n",
       "      <th>VWAP</th>\n",
       "      <th>Volume</th>\n",
       "      <th>Turnover</th>\n",
       "      <th>Trades</th>\n",
       "      <th>Deliverable Volume</th>\n",
       "      <th>%Deliverble</th>\n",
       "    </tr>\n",
       "  </thead>\n",
       "  <tbody>\n",
       "    <tr>\n",
       "      <th>0</th>\n",
       "      <td>2000-01-03</td>\n",
       "      <td>HDFC</td>\n",
       "      <td>EQ</td>\n",
       "      <td>271.75</td>\n",
       "      <td>293.5</td>\n",
       "      <td>293.50</td>\n",
       "      <td>293.5</td>\n",
       "      <td>293.5</td>\n",
       "      <td>293.50</td>\n",
       "      <td>293.50</td>\n",
       "      <td>22744</td>\n",
       "      <td>6.675364e+11</td>\n",
       "      <td>NaN</td>\n",
       "      <td>NaN</td>\n",
       "      <td>NaN</td>\n",
       "    </tr>\n",
       "    <tr>\n",
       "      <th>1</th>\n",
       "      <td>2000-01-04</td>\n",
       "      <td>HDFC</td>\n",
       "      <td>EQ</td>\n",
       "      <td>293.50</td>\n",
       "      <td>317.0</td>\n",
       "      <td>317.00</td>\n",
       "      <td>297.0</td>\n",
       "      <td>304.0</td>\n",
       "      <td>304.05</td>\n",
       "      <td>303.62</td>\n",
       "      <td>255251</td>\n",
       "      <td>7.749972e+12</td>\n",
       "      <td>NaN</td>\n",
       "      <td>NaN</td>\n",
       "      <td>NaN</td>\n",
       "    </tr>\n",
       "    <tr>\n",
       "      <th>2</th>\n",
       "      <td>2000-01-05</td>\n",
       "      <td>HDFC</td>\n",
       "      <td>EQ</td>\n",
       "      <td>304.05</td>\n",
       "      <td>290.0</td>\n",
       "      <td>303.90</td>\n",
       "      <td>285.0</td>\n",
       "      <td>295.0</td>\n",
       "      <td>292.80</td>\n",
       "      <td>294.53</td>\n",
       "      <td>269087</td>\n",
       "      <td>7.925368e+12</td>\n",
       "      <td>NaN</td>\n",
       "      <td>NaN</td>\n",
       "      <td>NaN</td>\n",
       "    </tr>\n",
       "    <tr>\n",
       "      <th>3</th>\n",
       "      <td>2000-01-06</td>\n",
       "      <td>HDFC</td>\n",
       "      <td>EQ</td>\n",
       "      <td>292.80</td>\n",
       "      <td>301.0</td>\n",
       "      <td>314.00</td>\n",
       "      <td>295.0</td>\n",
       "      <td>296.0</td>\n",
       "      <td>296.45</td>\n",
       "      <td>300.14</td>\n",
       "      <td>305916</td>\n",
       "      <td>9.181669e+12</td>\n",
       "      <td>NaN</td>\n",
       "      <td>NaN</td>\n",
       "      <td>NaN</td>\n",
       "    </tr>\n",
       "    <tr>\n",
       "      <th>4</th>\n",
       "      <td>2000-01-07</td>\n",
       "      <td>HDFC</td>\n",
       "      <td>EQ</td>\n",
       "      <td>296.45</td>\n",
       "      <td>290.0</td>\n",
       "      <td>296.35</td>\n",
       "      <td>281.0</td>\n",
       "      <td>287.1</td>\n",
       "      <td>286.55</td>\n",
       "      <td>288.80</td>\n",
       "      <td>197039</td>\n",
       "      <td>5.690480e+12</td>\n",
       "      <td>NaN</td>\n",
       "      <td>NaN</td>\n",
       "      <td>NaN</td>\n",
       "    </tr>\n",
       "  </tbody>\n",
       "</table>\n",
       "</div>"
      ],
      "text/plain": [
       "         Date Symbol Series  Prev Close   Open    High    Low   Last   Close  \\\n",
       "0  2000-01-03   HDFC     EQ      271.75  293.5  293.50  293.5  293.5  293.50   \n",
       "1  2000-01-04   HDFC     EQ      293.50  317.0  317.00  297.0  304.0  304.05   \n",
       "2  2000-01-05   HDFC     EQ      304.05  290.0  303.90  285.0  295.0  292.80   \n",
       "3  2000-01-06   HDFC     EQ      292.80  301.0  314.00  295.0  296.0  296.45   \n",
       "4  2000-01-07   HDFC     EQ      296.45  290.0  296.35  281.0  287.1  286.55   \n",
       "\n",
       "     VWAP  Volume      Turnover  Trades  Deliverable Volume  %Deliverble  \n",
       "0  293.50   22744  6.675364e+11     NaN                 NaN          NaN  \n",
       "1  303.62  255251  7.749972e+12     NaN                 NaN          NaN  \n",
       "2  294.53  269087  7.925368e+12     NaN                 NaN          NaN  \n",
       "3  300.14  305916  9.181669e+12     NaN                 NaN          NaN  \n",
       "4  288.80  197039  5.690480e+12     NaN                 NaN          NaN  "
      ]
     },
     "execution_count": 603,
     "metadata": {},
     "output_type": "execute_result"
    }
   ],
   "source": [
    "new_df.head()"
   ]
  },
  {
   "cell_type": "code",
   "execution_count": 604,
   "id": "0244666c-8991-4762-8429-9c8b36778ebc",
   "metadata": {},
   "outputs": [
    {
     "data": {
      "text/html": [
       "<div>\n",
       "<style scoped>\n",
       "    .dataframe tbody tr th:only-of-type {\n",
       "        vertical-align: middle;\n",
       "    }\n",
       "\n",
       "    .dataframe tbody tr th {\n",
       "        vertical-align: top;\n",
       "    }\n",
       "\n",
       "    .dataframe thead th {\n",
       "        text-align: right;\n",
       "    }\n",
       "</style>\n",
       "<table border=\"1\" class=\"dataframe\">\n",
       "  <thead>\n",
       "    <tr style=\"text-align: right;\">\n",
       "      <th></th>\n",
       "      <th>Date</th>\n",
       "      <th>Symbol</th>\n",
       "      <th>Series</th>\n",
       "      <th>Prev Close</th>\n",
       "      <th>Open</th>\n",
       "      <th>High</th>\n",
       "      <th>Low</th>\n",
       "      <th>Last</th>\n",
       "      <th>Close</th>\n",
       "      <th>VWAP</th>\n",
       "      <th>Volume</th>\n",
       "      <th>Turnover</th>\n",
       "      <th>Trades</th>\n",
       "      <th>Deliverable Volume</th>\n",
       "      <th>%Deliverble</th>\n",
       "    </tr>\n",
       "  </thead>\n",
       "  <tbody>\n",
       "    <tr>\n",
       "      <th>5301</th>\n",
       "      <td>2021-04-26</td>\n",
       "      <td>HDFC</td>\n",
       "      <td>EQ</td>\n",
       "      <td>2497.35</td>\n",
       "      <td>2500.00</td>\n",
       "      <td>2534.1</td>\n",
       "      <td>2483.20</td>\n",
       "      <td>2502.00</td>\n",
       "      <td>2509.80</td>\n",
       "      <td>2508.07</td>\n",
       "      <td>3916088</td>\n",
       "      <td>9.821805e+14</td>\n",
       "      <td>121028.0</td>\n",
       "      <td>2440395.0</td>\n",
       "      <td>0.6232</td>\n",
       "    </tr>\n",
       "    <tr>\n",
       "      <th>5302</th>\n",
       "      <td>2021-04-27</td>\n",
       "      <td>HDFC</td>\n",
       "      <td>EQ</td>\n",
       "      <td>2509.80</td>\n",
       "      <td>2494.15</td>\n",
       "      <td>2526.8</td>\n",
       "      <td>2486.25</td>\n",
       "      <td>2514.00</td>\n",
       "      <td>2518.40</td>\n",
       "      <td>2509.18</td>\n",
       "      <td>2040799</td>\n",
       "      <td>5.120730e+14</td>\n",
       "      <td>102250.0</td>\n",
       "      <td>1040749.0</td>\n",
       "      <td>0.5100</td>\n",
       "    </tr>\n",
       "    <tr>\n",
       "      <th>5303</th>\n",
       "      <td>2021-04-28</td>\n",
       "      <td>HDFC</td>\n",
       "      <td>EQ</td>\n",
       "      <td>2518.40</td>\n",
       "      <td>2516.10</td>\n",
       "      <td>2609.0</td>\n",
       "      <td>2508.30</td>\n",
       "      <td>2575.00</td>\n",
       "      <td>2577.00</td>\n",
       "      <td>2574.21</td>\n",
       "      <td>3407461</td>\n",
       "      <td>8.771527e+14</td>\n",
       "      <td>117425.0</td>\n",
       "      <td>1815110.0</td>\n",
       "      <td>0.5327</td>\n",
       "    </tr>\n",
       "    <tr>\n",
       "      <th>5304</th>\n",
       "      <td>2021-04-29</td>\n",
       "      <td>HDFC</td>\n",
       "      <td>EQ</td>\n",
       "      <td>2577.00</td>\n",
       "      <td>2590.90</td>\n",
       "      <td>2628.0</td>\n",
       "      <td>2533.00</td>\n",
       "      <td>2539.70</td>\n",
       "      <td>2538.85</td>\n",
       "      <td>2569.65</td>\n",
       "      <td>3005468</td>\n",
       "      <td>7.722995e+14</td>\n",
       "      <td>132826.0</td>\n",
       "      <td>1472924.0</td>\n",
       "      <td>0.4901</td>\n",
       "    </tr>\n",
       "    <tr>\n",
       "      <th>5305</th>\n",
       "      <td>2021-04-30</td>\n",
       "      <td>HDFC</td>\n",
       "      <td>EQ</td>\n",
       "      <td>2538.85</td>\n",
       "      <td>2503.10</td>\n",
       "      <td>2525.0</td>\n",
       "      <td>2411.10</td>\n",
       "      <td>2433.25</td>\n",
       "      <td>2420.10</td>\n",
       "      <td>2445.94</td>\n",
       "      <td>6024595</td>\n",
       "      <td>1.473581e+15</td>\n",
       "      <td>224454.0</td>\n",
       "      <td>3839105.0</td>\n",
       "      <td>0.6372</td>\n",
       "    </tr>\n",
       "  </tbody>\n",
       "</table>\n",
       "</div>"
      ],
      "text/plain": [
       "            Date Symbol Series  Prev Close     Open    High      Low     Last  \\\n",
       "5301  2021-04-26   HDFC     EQ     2497.35  2500.00  2534.1  2483.20  2502.00   \n",
       "5302  2021-04-27   HDFC     EQ     2509.80  2494.15  2526.8  2486.25  2514.00   \n",
       "5303  2021-04-28   HDFC     EQ     2518.40  2516.10  2609.0  2508.30  2575.00   \n",
       "5304  2021-04-29   HDFC     EQ     2577.00  2590.90  2628.0  2533.00  2539.70   \n",
       "5305  2021-04-30   HDFC     EQ     2538.85  2503.10  2525.0  2411.10  2433.25   \n",
       "\n",
       "        Close     VWAP   Volume      Turnover    Trades  Deliverable Volume  \\\n",
       "5301  2509.80  2508.07  3916088  9.821805e+14  121028.0           2440395.0   \n",
       "5302  2518.40  2509.18  2040799  5.120730e+14  102250.0           1040749.0   \n",
       "5303  2577.00  2574.21  3407461  8.771527e+14  117425.0           1815110.0   \n",
       "5304  2538.85  2569.65  3005468  7.722995e+14  132826.0           1472924.0   \n",
       "5305  2420.10  2445.94  6024595  1.473581e+15  224454.0           3839105.0   \n",
       "\n",
       "      %Deliverble  \n",
       "5301       0.6232  \n",
       "5302       0.5100  \n",
       "5303       0.5327  \n",
       "5304       0.4901  \n",
       "5305       0.6372  "
      ]
     },
     "execution_count": 604,
     "metadata": {},
     "output_type": "execute_result"
    }
   ],
   "source": [
    "new_df.tail()"
   ]
  },
  {
   "cell_type": "code",
   "execution_count": 605,
   "id": "7880511b-703e-44d4-92da-f4864ace012a",
   "metadata": {},
   "outputs": [],
   "source": [
    "df1=new_df.loc[:,['Date','Close','Volume','Open']]"
   ]
  },
  {
   "cell_type": "code",
   "execution_count": 606,
   "id": "f933e112-6b28-4fa1-a267-9caf335acfb1",
   "metadata": {},
   "outputs": [
    {
     "data": {
      "text/html": [
       "<div>\n",
       "<style scoped>\n",
       "    .dataframe tbody tr th:only-of-type {\n",
       "        vertical-align: middle;\n",
       "    }\n",
       "\n",
       "    .dataframe tbody tr th {\n",
       "        vertical-align: top;\n",
       "    }\n",
       "\n",
       "    .dataframe thead th {\n",
       "        text-align: right;\n",
       "    }\n",
       "</style>\n",
       "<table border=\"1\" class=\"dataframe\">\n",
       "  <thead>\n",
       "    <tr style=\"text-align: right;\">\n",
       "      <th></th>\n",
       "      <th>Date</th>\n",
       "      <th>Close</th>\n",
       "      <th>Volume</th>\n",
       "      <th>Open</th>\n",
       "    </tr>\n",
       "  </thead>\n",
       "  <tbody>\n",
       "    <tr>\n",
       "      <th>0</th>\n",
       "      <td>2000-01-03</td>\n",
       "      <td>293.50</td>\n",
       "      <td>22744</td>\n",
       "      <td>293.5</td>\n",
       "    </tr>\n",
       "    <tr>\n",
       "      <th>1</th>\n",
       "      <td>2000-01-04</td>\n",
       "      <td>304.05</td>\n",
       "      <td>255251</td>\n",
       "      <td>317.0</td>\n",
       "    </tr>\n",
       "    <tr>\n",
       "      <th>2</th>\n",
       "      <td>2000-01-05</td>\n",
       "      <td>292.80</td>\n",
       "      <td>269087</td>\n",
       "      <td>290.0</td>\n",
       "    </tr>\n",
       "    <tr>\n",
       "      <th>3</th>\n",
       "      <td>2000-01-06</td>\n",
       "      <td>296.45</td>\n",
       "      <td>305916</td>\n",
       "      <td>301.0</td>\n",
       "    </tr>\n",
       "    <tr>\n",
       "      <th>4</th>\n",
       "      <td>2000-01-07</td>\n",
       "      <td>286.55</td>\n",
       "      <td>197039</td>\n",
       "      <td>290.0</td>\n",
       "    </tr>\n",
       "  </tbody>\n",
       "</table>\n",
       "</div>"
      ],
      "text/plain": [
       "         Date   Close  Volume   Open\n",
       "0  2000-01-03  293.50   22744  293.5\n",
       "1  2000-01-04  304.05  255251  317.0\n",
       "2  2000-01-05  292.80  269087  290.0\n",
       "3  2000-01-06  296.45  305916  301.0\n",
       "4  2000-01-07  286.55  197039  290.0"
      ]
     },
     "execution_count": 606,
     "metadata": {},
     "output_type": "execute_result"
    }
   ],
   "source": [
    "df1.head()"
   ]
  },
  {
   "cell_type": "code",
   "execution_count": 607,
   "id": "b7351372-bf34-46ca-b1b8-95f8fbe3163e",
   "metadata": {},
   "outputs": [
    {
     "data": {
      "text/plain": [
       "(5306, 4)"
      ]
     },
     "execution_count": 607,
     "metadata": {},
     "output_type": "execute_result"
    }
   ],
   "source": [
    "df1.shape"
   ]
  },
  {
   "cell_type": "code",
   "execution_count": 608,
   "id": "9c2671e0-1720-4299-8dd7-a64903a685e2",
   "metadata": {},
   "outputs": [],
   "source": [
    "df1['Date']=pd.to_datetime(df1['Date'])"
   ]
  },
  {
   "cell_type": "code",
   "execution_count": 609,
   "id": "07270067-593f-4f74-94c9-d0d2bc8c2047",
   "metadata": {},
   "outputs": [],
   "source": [
    "df1=df1.set_index(df1['Date'])"
   ]
  },
  {
   "cell_type": "code",
   "execution_count": 610,
   "id": "f0b3e0ae-d7e0-4d52-90f0-0a8200c8d14f",
   "metadata": {},
   "outputs": [],
   "source": [
    "df1=df1.drop(['Date'],axis=1)"
   ]
  },
  {
   "cell_type": "code",
   "execution_count": 611,
   "id": "420c5dbd-6e96-45f1-b87e-76e839d6294d",
   "metadata": {},
   "outputs": [],
   "source": [
    "from statsmodels.tsa.seasonal import seasonal_decompose"
   ]
  },
  {
   "cell_type": "code",
   "execution_count": 612,
   "id": "5a5974d1-4ae0-4323-966e-913ba7179eac",
   "metadata": {},
   "outputs": [],
   "source": [
    "import matplotlib.pyplot as plt"
   ]
  },
  {
   "cell_type": "code",
   "execution_count": 613,
   "id": "a05a791a-45ba-491f-9ee2-71c9651c7d3c",
   "metadata": {},
   "outputs": [
    {
     "data": {
      "text/plain": [
       "[<matplotlib.lines.Line2D at 0x2e7a4b28d90>]"
      ]
     },
     "execution_count": 613,
     "metadata": {},
     "output_type": "execute_result"
    },
    {
     "data": {
      "image/png": "[encoded data removed]",
      "text/plain": [
       "<Figure size 432x288 with 1 Axes>"
      ]
     },
     "metadata": {
      "needs_background": "light"
     },
     "output_type": "display_data"
    }
   ],
   "source": [
    "plt.plot(df1['Open'])"
   ]
  },
  {
   "cell_type": "code",
   "execution_count": 614,
   "id": "37bf9b4f-6707-4f17-bb43-e5a341d07f3d",
   "metadata": {},
   "outputs": [
    {
     "data": {
      "text/html": [
       "<div>\n",
       "<style scoped>\n",
       "    .dataframe tbody tr th:only-of-type {\n",
       "        vertical-align: middle;\n",
       "    }\n",
       "\n",
       "    .dataframe tbody tr th {\n",
       "        vertical-align: top;\n",
       "    }\n",
       "\n",
       "    .dataframe thead th {\n",
       "        text-align: right;\n",
       "    }\n",
       "</style>\n",
       "<table border=\"1\" class=\"dataframe\">\n",
       "  <thead>\n",
       "    <tr style=\"text-align: right;\">\n",
       "      <th></th>\n",
       "      <th>Close</th>\n",
       "      <th>Volume</th>\n",
       "      <th>Open</th>\n",
       "    </tr>\n",
       "    <tr>\n",
       "      <th>Date</th>\n",
       "      <th></th>\n",
       "      <th></th>\n",
       "      <th></th>\n",
       "    </tr>\n",
       "  </thead>\n",
       "  <tbody>\n",
       "    <tr>\n",
       "      <th>2000-01-03</th>\n",
       "      <td>293.50</td>\n",
       "      <td>22744</td>\n",
       "      <td>293.5</td>\n",
       "    </tr>\n",
       "    <tr>\n",
       "      <th>2000-01-04</th>\n",
       "      <td>304.05</td>\n",
       "      <td>255251</td>\n",
       "      <td>317.0</td>\n",
       "    </tr>\n",
       "    <tr>\n",
       "      <th>2000-01-05</th>\n",
       "      <td>292.80</td>\n",
       "      <td>269087</td>\n",
       "      <td>290.0</td>\n",
       "    </tr>\n",
       "    <tr>\n",
       "      <th>2000-01-06</th>\n",
       "      <td>296.45</td>\n",
       "      <td>305916</td>\n",
       "      <td>301.0</td>\n",
       "    </tr>\n",
       "    <tr>\n",
       "      <th>2000-01-07</th>\n",
       "      <td>286.55</td>\n",
       "      <td>197039</td>\n",
       "      <td>290.0</td>\n",
       "    </tr>\n",
       "  </tbody>\n",
       "</table>\n",
       "</div>"
      ],
      "text/plain": [
       "             Close  Volume   Open\n",
       "Date                             \n",
       "2000-01-03  293.50   22744  293.5\n",
       "2000-01-04  304.05  255251  317.0\n",
       "2000-01-05  292.80  269087  290.0\n",
       "2000-01-06  296.45  305916  301.0\n",
       "2000-01-07  286.55  197039  290.0"
      ]
     },
     "execution_count": 614,
     "metadata": {},
     "output_type": "execute_result"
    }
   ],
   "source": [
    "df1.head()"
   ]
  },
  {
   "cell_type": "code",
   "execution_count": 615,
   "id": "76c3b134-a8a2-4ee6-90f7-702592d77a16",
   "metadata": {},
   "outputs": [],
   "source": [
    "from sklearn.preprocessing import MinMaxScaler"
   ]
  },
  {
   "cell_type": "code",
   "execution_count": 616,
   "id": "26c6929c-d60d-4211-8f71-04aa02914529",
   "metadata": {},
   "outputs": [],
   "source": [
    "final_df=pd.concat([df1,df],axis=1)"
   ]
  },
  {
   "cell_type": "code",
   "execution_count": 617,
   "id": "4e3e5a9b-c0ae-4a1a-b796-884a90249008",
   "metadata": {},
   "outputs": [
    {
     "data": {
      "text/html": [
       "<div>\n",
       "<style scoped>\n",
       "    .dataframe tbody tr th:only-of-type {\n",
       "        vertical-align: middle;\n",
       "    }\n",
       "\n",
       "    .dataframe tbody tr th {\n",
       "        vertical-align: top;\n",
       "    }\n",
       "\n",
       "    .dataframe thead th {\n",
       "        text-align: right;\n",
       "    }\n",
       "</style>\n",
       "<table border=\"1\" class=\"dataframe\">\n",
       "  <thead>\n",
       "    <tr style=\"text-align: right;\">\n",
       "      <th></th>\n",
       "      <th>sentiments</th>\n",
       "    </tr>\n",
       "    <tr>\n",
       "      <th>Date</th>\n",
       "      <th></th>\n",
       "    </tr>\n",
       "  </thead>\n",
       "  <tbody>\n",
       "    <tr>\n",
       "      <th>2003-04-01</th>\n",
       "      <td>0.035714</td>\n",
       "    </tr>\n",
       "    <tr>\n",
       "      <th>2004-04-01</th>\n",
       "      <td>0.000000</td>\n",
       "    </tr>\n",
       "    <tr>\n",
       "      <th>2005-04-01</th>\n",
       "      <td>-0.077143</td>\n",
       "    </tr>\n",
       "    <tr>\n",
       "      <th>2006-04-01</th>\n",
       "      <td>0.137143</td>\n",
       "    </tr>\n",
       "    <tr>\n",
       "      <th>2007-04-01</th>\n",
       "      <td>0.000000</td>\n",
       "    </tr>\n",
       "    <tr>\n",
       "      <th>...</th>\n",
       "      <td>...</td>\n",
       "    </tr>\n",
       "    <tr>\n",
       "      <th>2014-09-30</th>\n",
       "      <td>-0.025000</td>\n",
       "    </tr>\n",
       "    <tr>\n",
       "      <th>2015-09-30</th>\n",
       "      <td>-0.480000</td>\n",
       "    </tr>\n",
       "    <tr>\n",
       "      <th>2016-09-30</th>\n",
       "      <td>-0.018333</td>\n",
       "    </tr>\n",
       "    <tr>\n",
       "      <th>2018-09-30</th>\n",
       "      <td>0.000000</td>\n",
       "    </tr>\n",
       "    <tr>\n",
       "      <th>2019-09-30</th>\n",
       "      <td>0.008929</td>\n",
       "    </tr>\n",
       "  </tbody>\n",
       "</table>\n",
       "<p>6037 rows × 1 columns</p>\n",
       "</div>"
      ],
      "text/plain": [
       "            sentiments\n",
       "Date                  \n",
       "2003-04-01    0.035714\n",
       "2004-04-01    0.000000\n",
       "2005-04-01   -0.077143\n",
       "2006-04-01    0.137143\n",
       "2007-04-01    0.000000\n",
       "...                ...\n",
       "2014-09-30   -0.025000\n",
       "2015-09-30   -0.480000\n",
       "2016-09-30   -0.018333\n",
       "2018-09-30    0.000000\n",
       "2019-09-30    0.008929\n",
       "\n",
       "[6037 rows x 1 columns]"
      ]
     },
     "execution_count": 617,
     "metadata": {},
     "output_type": "execute_result"
    }
   ],
   "source": [
    "df"
   ]
  },
  {
   "cell_type": "code",
   "execution_count": 618,
   "id": "e49167a0-d338-4c4c-b885-7409fa8da4c8",
   "metadata": {},
   "outputs": [
    {
     "data": {
      "text/html": [
       "<div>\n",
       "<style scoped>\n",
       "    .dataframe tbody tr th:only-of-type {\n",
       "        vertical-align: middle;\n",
       "    }\n",
       "\n",
       "    .dataframe tbody tr th {\n",
       "        vertical-align: top;\n",
       "    }\n",
       "\n",
       "    .dataframe thead th {\n",
       "        text-align: right;\n",
       "    }\n",
       "</style>\n",
       "<table border=\"1\" class=\"dataframe\">\n",
       "  <thead>\n",
       "    <tr style=\"text-align: right;\">\n",
       "      <th></th>\n",
       "      <th>Close</th>\n",
       "      <th>Volume</th>\n",
       "      <th>Open</th>\n",
       "      <th>sentiments</th>\n",
       "    </tr>\n",
       "    <tr>\n",
       "      <th>Date</th>\n",
       "      <th></th>\n",
       "      <th></th>\n",
       "      <th></th>\n",
       "      <th></th>\n",
       "    </tr>\n",
       "  </thead>\n",
       "  <tbody>\n",
       "    <tr>\n",
       "      <th>2000-01-03</th>\n",
       "      <td>293.50</td>\n",
       "      <td>22744.0</td>\n",
       "      <td>293.5</td>\n",
       "      <td>NaN</td>\n",
       "    </tr>\n",
       "    <tr>\n",
       "      <th>2000-01-04</th>\n",
       "      <td>304.05</td>\n",
       "      <td>255251.0</td>\n",
       "      <td>317.0</td>\n",
       "      <td>NaN</td>\n",
       "    </tr>\n",
       "    <tr>\n",
       "      <th>2000-01-05</th>\n",
       "      <td>292.80</td>\n",
       "      <td>269087.0</td>\n",
       "      <td>290.0</td>\n",
       "      <td>NaN</td>\n",
       "    </tr>\n",
       "    <tr>\n",
       "      <th>2000-01-06</th>\n",
       "      <td>296.45</td>\n",
       "      <td>305916.0</td>\n",
       "      <td>301.0</td>\n",
       "      <td>NaN</td>\n",
       "    </tr>\n",
       "    <tr>\n",
       "      <th>2000-01-07</th>\n",
       "      <td>286.55</td>\n",
       "      <td>197039.0</td>\n",
       "      <td>290.0</td>\n",
       "      <td>NaN</td>\n",
       "    </tr>\n",
       "  </tbody>\n",
       "</table>\n",
       "</div>"
      ],
      "text/plain": [
       "             Close    Volume   Open  sentiments\n",
       "Date                                           \n",
       "2000-01-03  293.50   22744.0  293.5         NaN\n",
       "2000-01-04  304.05  255251.0  317.0         NaN\n",
       "2000-01-05  292.80  269087.0  290.0         NaN\n",
       "2000-01-06  296.45  305916.0  301.0         NaN\n",
       "2000-01-07  286.55  197039.0  290.0         NaN"
      ]
     },
     "execution_count": 618,
     "metadata": {},
     "output_type": "execute_result"
    }
   ],
   "source": [
    "final_df.head()"
   ]
  },
  {
   "cell_type": "code",
   "execution_count": 619,
   "id": "b7894dba-6320-4872-9311-89f25474e92b",
   "metadata": {},
   "outputs": [
    {
     "data": {
      "text/plain": [
       "1"
      ]
     },
     "execution_count": 619,
     "metadata": {},
     "output_type": "execute_result"
    }
   ],
   "source": [
    "final_df['sentiments'].iloc[0:778].nunique()"
   ]
  },
  {
   "cell_type": "code",
   "execution_count": 620,
   "id": "c91b82b2-bf34-4d84-b887-7100b9c7e67b",
   "metadata": {},
   "outputs": [
    {
     "data": {
      "text/plain": [
       "1"
      ]
     },
     "execution_count": 620,
     "metadata": {},
     "output_type": "execute_result"
    }
   ],
   "source": [
    "final_df['sentiments'].iloc[6842::].nunique()"
   ]
  },
  {
   "cell_type": "code",
   "execution_count": 621,
   "id": "286276d2-1c9a-44b4-a1a6-77753f967a80",
   "metadata": {},
   "outputs": [],
   "source": [
    "final_df=final_df.iloc[776:6844,:]"
   ]
  },
  {
   "cell_type": "code",
   "execution_count": 622,
   "id": "ac388434-2c6a-4023-8602-25d437a7c679",
   "metadata": {},
   "outputs": [
    {
     "data": {
      "text/html": [
       "<div>\n",
       "<style scoped>\n",
       "    .dataframe tbody tr th:only-of-type {\n",
       "        vertical-align: middle;\n",
       "    }\n",
       "\n",
       "    .dataframe tbody tr th {\n",
       "        vertical-align: top;\n",
       "    }\n",
       "\n",
       "    .dataframe thead th {\n",
       "        text-align: right;\n",
       "    }\n",
       "</style>\n",
       "<table border=\"1\" class=\"dataframe\">\n",
       "  <thead>\n",
       "    <tr style=\"text-align: right;\">\n",
       "      <th></th>\n",
       "      <th>Close</th>\n",
       "      <th>Volume</th>\n",
       "      <th>Open</th>\n",
       "      <th>sentiments</th>\n",
       "    </tr>\n",
       "    <tr>\n",
       "      <th>Date</th>\n",
       "      <th></th>\n",
       "      <th></th>\n",
       "      <th></th>\n",
       "      <th></th>\n",
       "    </tr>\n",
       "  </thead>\n",
       "  <tbody>\n",
       "    <tr>\n",
       "      <th>2003-02-07</th>\n",
       "      <td>376.15</td>\n",
       "      <td>57309.0</td>\n",
       "      <td>372.55</td>\n",
       "      <td>NaN</td>\n",
       "    </tr>\n",
       "    <tr>\n",
       "      <th>2003-02-10</th>\n",
       "      <td>390.20</td>\n",
       "      <td>200201.0</td>\n",
       "      <td>375.20</td>\n",
       "      <td>0.00000</td>\n",
       "    </tr>\n",
       "    <tr>\n",
       "      <th>2003-02-11</th>\n",
       "      <td>387.50</td>\n",
       "      <td>125146.0</td>\n",
       "      <td>392.00</td>\n",
       "      <td>0.00000</td>\n",
       "    </tr>\n",
       "    <tr>\n",
       "      <th>2003-02-12</th>\n",
       "      <td>379.00</td>\n",
       "      <td>31381.0</td>\n",
       "      <td>388.00</td>\n",
       "      <td>0.00625</td>\n",
       "    </tr>\n",
       "    <tr>\n",
       "      <th>2003-02-13</th>\n",
       "      <td>NaN</td>\n",
       "      <td>NaN</td>\n",
       "      <td>NaN</td>\n",
       "      <td>0.06000</td>\n",
       "    </tr>\n",
       "  </tbody>\n",
       "</table>\n",
       "</div>"
      ],
      "text/plain": [
       "             Close    Volume    Open  sentiments\n",
       "Date                                            \n",
       "2003-02-07  376.15   57309.0  372.55         NaN\n",
       "2003-02-10  390.20  200201.0  375.20     0.00000\n",
       "2003-02-11  387.50  125146.0  392.00     0.00000\n",
       "2003-02-12  379.00   31381.0  388.00     0.00625\n",
       "2003-02-13     NaN       NaN     NaN     0.06000"
      ]
     },
     "execution_count": 622,
     "metadata": {},
     "output_type": "execute_result"
    }
   ],
   "source": [
    "final_df.head()"
   ]
  },
  {
   "cell_type": "code",
   "execution_count": 623,
   "id": "07cdac78-25ea-4608-aa3a-174d01fbc28a",
   "metadata": {},
   "outputs": [
    {
     "data": {
      "text/html": [
       "<div>\n",
       "<style scoped>\n",
       "    .dataframe tbody tr th:only-of-type {\n",
       "        vertical-align: middle;\n",
       "    }\n",
       "\n",
       "    .dataframe tbody tr th {\n",
       "        vertical-align: top;\n",
       "    }\n",
       "\n",
       "    .dataframe thead th {\n",
       "        text-align: right;\n",
       "    }\n",
       "</style>\n",
       "<table border=\"1\" class=\"dataframe\">\n",
       "  <thead>\n",
       "    <tr style=\"text-align: right;\">\n",
       "      <th></th>\n",
       "      <th>Close</th>\n",
       "      <th>Volume</th>\n",
       "      <th>Open</th>\n",
       "      <th>sentiments</th>\n",
       "    </tr>\n",
       "    <tr>\n",
       "      <th>Date</th>\n",
       "      <th></th>\n",
       "      <th></th>\n",
       "      <th></th>\n",
       "      <th></th>\n",
       "    </tr>\n",
       "  </thead>\n",
       "  <tbody>\n",
       "    <tr>\n",
       "      <th>2020-05-20</th>\n",
       "      <td>1627.00</td>\n",
       "      <td>6847043.0</td>\n",
       "      <td>1550.0</td>\n",
       "      <td>0.000000</td>\n",
       "    </tr>\n",
       "    <tr>\n",
       "      <th>2020-05-21</th>\n",
       "      <td>1597.30</td>\n",
       "      <td>7056092.0</td>\n",
       "      <td>1632.9</td>\n",
       "      <td>-0.008333</td>\n",
       "    </tr>\n",
       "    <tr>\n",
       "      <th>2020-05-22</th>\n",
       "      <td>1516.15</td>\n",
       "      <td>12034389.0</td>\n",
       "      <td>1582.0</td>\n",
       "      <td>-0.027083</td>\n",
       "    </tr>\n",
       "    <tr>\n",
       "      <th>2020-05-26</th>\n",
       "      <td>1502.15</td>\n",
       "      <td>12752510.0</td>\n",
       "      <td>1516.0</td>\n",
       "      <td>0.000000</td>\n",
       "    </tr>\n",
       "    <tr>\n",
       "      <th>2020-05-27</th>\n",
       "      <td>1570.40</td>\n",
       "      <td>12428432.0</td>\n",
       "      <td>1513.0</td>\n",
       "      <td>NaN</td>\n",
       "    </tr>\n",
       "  </tbody>\n",
       "</table>\n",
       "</div>"
      ],
      "text/plain": [
       "              Close      Volume    Open  sentiments\n",
       "Date                                               \n",
       "2020-05-20  1627.00   6847043.0  1550.0    0.000000\n",
       "2020-05-21  1597.30   7056092.0  1632.9   -0.008333\n",
       "2020-05-22  1516.15  12034389.0  1582.0   -0.027083\n",
       "2020-05-26  1502.15  12752510.0  1516.0    0.000000\n",
       "2020-05-27  1570.40  12428432.0  1513.0         NaN"
      ]
     },
     "execution_count": 623,
     "metadata": {},
     "output_type": "execute_result"
    }
   ],
   "source": [
    "final_df.tail()"
   ]
  },
  {
   "cell_type": "code",
   "execution_count": 624,
   "id": "a24fe711-d2c0-4f98-97c1-22349c339f9f",
   "metadata": {},
   "outputs": [
    {
     "data": {
      "text/plain": [
       "Close         1771\n",
       "Volume        1771\n",
       "Open          1771\n",
       "sentiments      31\n",
       "dtype: int64"
      ]
     },
     "execution_count": 624,
     "metadata": {},
     "output_type": "execute_result"
    }
   ],
   "source": [
    "final_df.isnull().sum()"
   ]
  },
  {
   "cell_type": "code",
   "execution_count": 625,
   "id": "f9e384bf-5d2e-4194-b0ae-10ceed7e7891",
   "metadata": {},
   "outputs": [],
   "source": [
    "final_df['sentiments'].fillna(0.0,inplace=True)"
   ]
  },
  {
   "cell_type": "code",
   "execution_count": 626,
   "id": "8918dac6-c645-4ea4-b79f-a4f10fd2998d",
   "metadata": {},
   "outputs": [],
   "source": [
    "final_df['Close']=final_df['Close'].ffill()"
   ]
  },
  {
   "cell_type": "code",
   "execution_count": 627,
   "id": "df0dbced-aa09-44e9-921c-02715f86ec7e",
   "metadata": {},
   "outputs": [],
   "source": [
    "final_df['Volume']=final_df['Volume'].ffill()"
   ]
  },
  {
   "cell_type": "code",
   "execution_count": 628,
   "id": "73fc697e-715f-4006-b26d-a905310ce182",
   "metadata": {},
   "outputs": [],
   "source": [
    "final_df['Open']=final_df['Open'].ffill()"
   ]
  },
  {
   "cell_type": "code",
   "execution_count": 629,
   "id": "810724c2-e6f7-4fa3-9bb5-2a042066f6a5",
   "metadata": {},
   "outputs": [
    {
     "data": {
      "text/plain": [
       "Close         0\n",
       "Volume        0\n",
       "Open          0\n",
       "sentiments    0\n",
       "dtype: int64"
      ]
     },
     "execution_count": 629,
     "metadata": {},
     "output_type": "execute_result"
    }
   ],
   "source": [
    "final_df.isnull().sum()"
   ]
  },
  {
   "cell_type": "markdown",
   "id": "57b3b04c-547d-4d45-94b2-2730e126bda1",
   "metadata": {},
   "source": [
    "### Appling lstm model without sentiments"
   ]
  },
  {
   "cell_type": "code",
   "execution_count": 630,
   "id": "04e6ad57-5b1d-4fbb-b41e-e2ccfdd70080",
   "metadata": {},
   "outputs": [
    {
     "data": {
      "text/html": [
       "<div>\n",
       "<style scoped>\n",
       "    .dataframe tbody tr th:only-of-type {\n",
       "        vertical-align: middle;\n",
       "    }\n",
       "\n",
       "    .dataframe tbody tr th {\n",
       "        vertical-align: top;\n",
       "    }\n",
       "\n",
       "    .dataframe thead th {\n",
       "        text-align: right;\n",
       "    }\n",
       "</style>\n",
       "<table border=\"1\" class=\"dataframe\">\n",
       "  <thead>\n",
       "    <tr style=\"text-align: right;\">\n",
       "      <th></th>\n",
       "      <th>Close</th>\n",
       "      <th>Volume</th>\n",
       "      <th>Open</th>\n",
       "      <th>sentiments</th>\n",
       "    </tr>\n",
       "    <tr>\n",
       "      <th>Date</th>\n",
       "      <th></th>\n",
       "      <th></th>\n",
       "      <th></th>\n",
       "      <th></th>\n",
       "    </tr>\n",
       "  </thead>\n",
       "  <tbody>\n",
       "    <tr>\n",
       "      <th>2003-02-07</th>\n",
       "      <td>376.15</td>\n",
       "      <td>57309.0</td>\n",
       "      <td>372.55</td>\n",
       "      <td>0.00000</td>\n",
       "    </tr>\n",
       "    <tr>\n",
       "      <th>2003-02-10</th>\n",
       "      <td>390.20</td>\n",
       "      <td>200201.0</td>\n",
       "      <td>375.20</td>\n",
       "      <td>0.00000</td>\n",
       "    </tr>\n",
       "    <tr>\n",
       "      <th>2003-02-11</th>\n",
       "      <td>387.50</td>\n",
       "      <td>125146.0</td>\n",
       "      <td>392.00</td>\n",
       "      <td>0.00000</td>\n",
       "    </tr>\n",
       "    <tr>\n",
       "      <th>2003-02-12</th>\n",
       "      <td>379.00</td>\n",
       "      <td>31381.0</td>\n",
       "      <td>388.00</td>\n",
       "      <td>0.00625</td>\n",
       "    </tr>\n",
       "    <tr>\n",
       "      <th>2003-02-13</th>\n",
       "      <td>379.00</td>\n",
       "      <td>31381.0</td>\n",
       "      <td>388.00</td>\n",
       "      <td>0.06000</td>\n",
       "    </tr>\n",
       "  </tbody>\n",
       "</table>\n",
       "</div>"
      ],
      "text/plain": [
       "             Close    Volume    Open  sentiments\n",
       "Date                                            \n",
       "2003-02-07  376.15   57309.0  372.55     0.00000\n",
       "2003-02-10  390.20  200201.0  375.20     0.00000\n",
       "2003-02-11  387.50  125146.0  392.00     0.00000\n",
       "2003-02-12  379.00   31381.0  388.00     0.00625\n",
       "2003-02-13  379.00   31381.0  388.00     0.06000"
      ]
     },
     "execution_count": 630,
     "metadata": {},
     "output_type": "execute_result"
    }
   ],
   "source": [
    "final_df.head()"
   ]
  },
  {
   "cell_type": "code",
   "execution_count": 631,
   "id": "3e9274cd-767a-40de-aed2-055e811097cc",
   "metadata": {},
   "outputs": [],
   "source": [
    "a=final_df.loc[:,['sentiments']]"
   ]
  },
  {
   "cell_type": "code",
   "execution_count": 632,
   "id": "3830ba11-543c-4712-8d82-8db978f8ad54",
   "metadata": {},
   "outputs": [
    {
     "data": {
      "text/plain": [
       "6068"
      ]
     },
     "execution_count": 632,
     "metadata": {},
     "output_type": "execute_result"
    }
   ],
   "source": [
    "len(a)"
   ]
  },
  {
   "cell_type": "code",
   "execution_count": 633,
   "id": "3fc140e9-95e6-4205-a184-fd641d00de71",
   "metadata": {},
   "outputs": [],
   "source": [
    "final_df1=final_df.iloc[:,:-1]"
   ]
  },
  {
   "cell_type": "code",
   "execution_count": 634,
   "id": "5b2b0a31-c074-4e32-96f0-3774b515144e",
   "metadata": {},
   "outputs": [],
   "source": [
    "import numpy as np\n",
    "import math"
   ]
  },
  {
   "cell_type": "code",
   "execution_count": 635,
   "id": "3f77ef70-e2e7-4f10-bfac-a6b09c941b8d",
   "metadata": {},
   "outputs": [],
   "source": [
    "import tensorflow as tf"
   ]
  },
  {
   "cell_type": "code",
   "execution_count": 636,
   "id": "0042b5e3-e67e-471b-8ff4-73715b2e8e2f",
   "metadata": {},
   "outputs": [],
   "source": [
    "import keras"
   ]
  },
  {
   "cell_type": "code",
   "execution_count": 637,
   "id": "577019e5-75e1-47aa-a9c1-b288b810eb55",
   "metadata": {},
   "outputs": [],
   "source": [
    "from keras.models import Sequential\n",
    "from keras.layers import LSTM\n",
    "from keras.layers import Dense\n",
    "from keras.layers import Flatten"
   ]
  },
  {
   "cell_type": "code",
   "execution_count": 638,
   "id": "3a30261d-dcaf-45c9-9c77-a0332ee4140c",
   "metadata": {},
   "outputs": [],
   "source": [
    "from sklearn.preprocessing import StandardScaler"
   ]
  },
  {
   "cell_type": "code",
   "execution_count": 639,
   "id": "f367976d-63c0-43b4-a210-d2f7473a3ecb",
   "metadata": {},
   "outputs": [],
   "source": [
    "std_df=StandardScaler()\n"
   ]
  },
  {
   "cell_type": "code",
   "execution_count": 640,
   "id": "075458f1-3b2f-4781-8cc2-f3fc5a354e18",
   "metadata": {},
   "outputs": [],
   "source": [
    "std_df1=std_df.fit(final_df1)"
   ]
  },
  {
   "cell_type": "code",
   "execution_count": 641,
   "id": "f1311b29-f4d1-412f-ae3d-947fc509dbb0",
   "metadata": {},
   "outputs": [],
   "source": [
    "std_df2=std_df.transform(final_df1)"
   ]
  },
  {
   "cell_type": "code",
   "execution_count": 642,
   "id": "9bcd3eef-c9ba-43fc-9d62-6b2bfe6d84e6",
   "metadata": {},
   "outputs": [],
   "source": [
    "df3=pd.DataFrame(std_df2)"
   ]
  },
  {
   "cell_type": "code",
   "execution_count": 643,
   "id": "63033aa1-889c-451e-ac8a-20be4f3a529b",
   "metadata": {},
   "outputs": [],
   "source": [
    "a=list(final_df1.columns)"
   ]
  },
  {
   "cell_type": "code",
   "execution_count": 644,
   "id": "f8443f3f-d592-4ae5-9278-263bc8d6574a",
   "metadata": {},
   "outputs": [],
   "source": [
    "df3.columns=a"
   ]
  },
  {
   "cell_type": "code",
   "execution_count": 645,
   "id": "06e8682f-b0d7-40db-b2a6-964206053c7c",
   "metadata": {},
   "outputs": [
    {
     "data": {
      "text/html": [
       "<div>\n",
       "<style scoped>\n",
       "    .dataframe tbody tr th:only-of-type {\n",
       "        vertical-align: middle;\n",
       "    }\n",
       "\n",
       "    .dataframe tbody tr th {\n",
       "        vertical-align: top;\n",
       "    }\n",
       "\n",
       "    .dataframe thead th {\n",
       "        text-align: right;\n",
       "    }\n",
       "</style>\n",
       "<table border=\"1\" class=\"dataframe\">\n",
       "  <thead>\n",
       "    <tr style=\"text-align: right;\">\n",
       "      <th></th>\n",
       "      <th>Close</th>\n",
       "      <th>Volume</th>\n",
       "      <th>Open</th>\n",
       "    </tr>\n",
       "  </thead>\n",
       "  <tbody>\n",
       "    <tr>\n",
       "      <th>0</th>\n",
       "      <td>-1.470140</td>\n",
       "      <td>-0.494962</td>\n",
       "      <td>-1.476048</td>\n",
       "    </tr>\n",
       "    <tr>\n",
       "      <th>1</th>\n",
       "      <td>-1.449493</td>\n",
       "      <td>-0.460630</td>\n",
       "      <td>-1.472153</td>\n",
       "    </tr>\n",
       "    <tr>\n",
       "      <th>2</th>\n",
       "      <td>-1.453461</td>\n",
       "      <td>-0.478663</td>\n",
       "      <td>-1.447459</td>\n",
       "    </tr>\n",
       "    <tr>\n",
       "      <th>3</th>\n",
       "      <td>-1.465952</td>\n",
       "      <td>-0.501191</td>\n",
       "      <td>-1.453338</td>\n",
       "    </tr>\n",
       "    <tr>\n",
       "      <th>4</th>\n",
       "      <td>-1.465952</td>\n",
       "      <td>-0.501191</td>\n",
       "      <td>-1.453338</td>\n",
       "    </tr>\n",
       "    <tr>\n",
       "      <th>5</th>\n",
       "      <td>-1.471756</td>\n",
       "      <td>-0.484776</td>\n",
       "      <td>-1.472447</td>\n",
       "    </tr>\n",
       "    <tr>\n",
       "      <th>6</th>\n",
       "      <td>-1.471756</td>\n",
       "      <td>-0.484776</td>\n",
       "      <td>-1.472447</td>\n",
       "    </tr>\n",
       "    <tr>\n",
       "      <th>7</th>\n",
       "      <td>-1.469185</td>\n",
       "      <td>-0.492452</td>\n",
       "      <td>-1.461423</td>\n",
       "    </tr>\n",
       "    <tr>\n",
       "      <th>8</th>\n",
       "      <td>-1.471683</td>\n",
       "      <td>-0.494208</td>\n",
       "      <td>-1.471344</td>\n",
       "    </tr>\n",
       "    <tr>\n",
       "      <th>9</th>\n",
       "      <td>-1.472124</td>\n",
       "      <td>-0.480553</td>\n",
       "      <td>-1.472447</td>\n",
       "    </tr>\n",
       "    <tr>\n",
       "      <th>10</th>\n",
       "      <td>-1.471022</td>\n",
       "      <td>-0.474791</td>\n",
       "      <td>-1.463627</td>\n",
       "    </tr>\n",
       "    <tr>\n",
       "      <th>11</th>\n",
       "      <td>-1.470434</td>\n",
       "      <td>-0.471421</td>\n",
       "      <td>-1.472447</td>\n",
       "    </tr>\n",
       "    <tr>\n",
       "      <th>12</th>\n",
       "      <td>-1.470434</td>\n",
       "      <td>-0.471421</td>\n",
       "      <td>-1.472447</td>\n",
       "    </tr>\n",
       "    <tr>\n",
       "      <th>13</th>\n",
       "      <td>-1.471022</td>\n",
       "      <td>-0.452630</td>\n",
       "      <td>-1.469507</td>\n",
       "    </tr>\n",
       "    <tr>\n",
       "      <th>14</th>\n",
       "      <td>-1.471756</td>\n",
       "      <td>-0.452891</td>\n",
       "      <td>-1.472447</td>\n",
       "    </tr>\n",
       "    <tr>\n",
       "      <th>15</th>\n",
       "      <td>-1.471683</td>\n",
       "      <td>-0.459354</td>\n",
       "      <td>-1.469507</td>\n",
       "    </tr>\n",
       "    <tr>\n",
       "      <th>16</th>\n",
       "      <td>-1.472271</td>\n",
       "      <td>-0.463199</td>\n",
       "      <td>-1.471050</td>\n",
       "    </tr>\n",
       "    <tr>\n",
       "      <th>17</th>\n",
       "      <td>-1.472124</td>\n",
       "      <td>-0.446056</td>\n",
       "      <td>-1.468184</td>\n",
       "    </tr>\n",
       "    <tr>\n",
       "      <th>18</th>\n",
       "      <td>-1.472124</td>\n",
       "      <td>-0.499797</td>\n",
       "      <td>-1.472447</td>\n",
       "    </tr>\n",
       "    <tr>\n",
       "      <th>19</th>\n",
       "      <td>-1.474695</td>\n",
       "      <td>-0.484642</td>\n",
       "      <td>-1.472447</td>\n",
       "    </tr>\n",
       "    <tr>\n",
       "      <th>20</th>\n",
       "      <td>-1.478957</td>\n",
       "      <td>-0.478168</td>\n",
       "      <td>-1.484941</td>\n",
       "    </tr>\n",
       "  </tbody>\n",
       "</table>\n",
       "</div>"
      ],
      "text/plain": [
       "       Close    Volume      Open\n",
       "0  -1.470140 -0.494962 -1.476048\n",
       "1  -1.449493 -0.460630 -1.472153\n",
       "2  -1.453461 -0.478663 -1.447459\n",
       "3  -1.465952 -0.501191 -1.453338\n",
       "4  -1.465952 -0.501191 -1.453338\n",
       "5  -1.471756 -0.484776 -1.472447\n",
       "6  -1.471756 -0.484776 -1.472447\n",
       "7  -1.469185 -0.492452 -1.461423\n",
       "8  -1.471683 -0.494208 -1.471344\n",
       "9  -1.472124 -0.480553 -1.472447\n",
       "10 -1.471022 -0.474791 -1.463627\n",
       "11 -1.470434 -0.471421 -1.472447\n",
       "12 -1.470434 -0.471421 -1.472447\n",
       "13 -1.471022 -0.452630 -1.469507\n",
       "14 -1.471756 -0.452891 -1.472447\n",
       "15 -1.471683 -0.459354 -1.469507\n",
       "16 -1.472271 -0.463199 -1.471050\n",
       "17 -1.472124 -0.446056 -1.468184\n",
       "18 -1.472124 -0.499797 -1.472447\n",
       "19 -1.474695 -0.484642 -1.472447\n",
       "20 -1.478957 -0.478168 -1.484941"
      ]
     },
     "execution_count": 645,
     "metadata": {},
     "output_type": "execute_result"
    }
   ],
   "source": [
    "df3.head(21)"
   ]
  },
  {
   "cell_type": "code",
   "execution_count": 646,
   "id": "92521436-fc1d-423d-be04-6a41421b3bc6",
   "metadata": {},
   "outputs": [],
   "source": [
    "train_df_size=len(df3)*0.8"
   ]
  },
  {
   "cell_type": "code",
   "execution_count": 647,
   "id": "5a739b2f-7379-4538-8983-518a88fc2d53",
   "metadata": {},
   "outputs": [],
   "source": [
    "test_df_size=len(df3)-train_df_size"
   ]
  },
  {
   "cell_type": "code",
   "execution_count": 648,
   "id": "bff32297-ccab-48a0-a9a9-46e7e8a59479",
   "metadata": {},
   "outputs": [
    {
     "data": {
      "text/plain": [
       "4854.400000000001"
      ]
     },
     "execution_count": 648,
     "metadata": {},
     "output_type": "execute_result"
    }
   ],
   "source": [
    "train_df_size"
   ]
  },
  {
   "cell_type": "code",
   "execution_count": 649,
   "id": "57334ada-bee9-434c-9ead-6c4815af76be",
   "metadata": {},
   "outputs": [
    {
     "data": {
      "text/plain": [
       "1213.5999999999995"
      ]
     },
     "execution_count": 649,
     "metadata": {},
     "output_type": "execute_result"
    }
   ],
   "source": [
    "test_df_size"
   ]
  },
  {
   "cell_type": "code",
   "execution_count": 650,
   "id": "48975c2b-4310-4f42-a40f-0486920a0d68",
   "metadata": {},
   "outputs": [],
   "source": [
    "train_df=df3.iloc[0:4854,::]"
   ]
  },
  {
   "cell_type": "code",
   "execution_count": 651,
   "id": "df0f7b87-928a-446c-bf53-ee974aa8db12",
   "metadata": {},
   "outputs": [],
   "source": [
    "test_df=df3.iloc[4854 : ,::]"
   ]
  },
  {
   "cell_type": "code",
   "execution_count": 652,
   "id": "5b84c5ee-9afd-4b11-a3f4-8ad921dafc15",
   "metadata": {},
   "outputs": [],
   "source": [
    "x_train=[]\n",
    "y_train=[]"
   ]
  },
  {
   "cell_type": "code",
   "execution_count": 653,
   "id": "00929f43-20fe-41a7-9deb-9bfaadb31829",
   "metadata": {},
   "outputs": [],
   "source": [
    "no_d_future=1\n",
    "no_d_past=20"
   ]
  },
  {
   "cell_type": "code",
   "execution_count": 654,
   "id": "37df662a-2212-4c18-991b-7f20629e8cbf",
   "metadata": {},
   "outputs": [],
   "source": [
    "for i  in range(no_d_past,len(train_df)-no_d_future+1):\n",
    "    x_train.append(train_df.iloc[i-no_d_past:i,0:3])\n",
    "    y_train.append(train_df.iloc[i+no_d_future-1:i+no_d_future,[2]])"
   ]
  },
  {
   "cell_type": "code",
   "execution_count": 655,
   "id": "76537776-9add-4f0d-9ddd-fc5290edd2e2",
   "metadata": {},
   "outputs": [],
   "source": [
    "x_train=np.array(x_train)"
   ]
  },
  {
   "cell_type": "code",
   "execution_count": 656,
   "id": "feed0668-909e-496e-ace7-0fbde572fa6a",
   "metadata": {},
   "outputs": [
    {
     "data": {
      "text/plain": [
       "array([[-1.4701398 , -0.4949615 , -1.47604806],\n",
       "       [-1.44949334, -0.46063002, -1.47215285],\n",
       "       [-1.45346099, -0.47866287, -1.44745872],\n",
       "       [-1.46595173, -0.50119101, -1.45333827],\n",
       "       [-1.46595173, -0.50119101, -1.45333827],\n",
       "       [-1.47175625, -0.48477561, -1.47244683],\n",
       "       [-1.47175625, -0.48477561, -1.47244683],\n",
       "       [-1.46918463, -0.49245173, -1.46142266],\n",
       "       [-1.47168277, -0.49420828, -1.47134442],\n",
       "       [-1.47212362, -0.48055301, -1.47244683],\n",
       "       [-1.4710215 , -0.47479105, -1.4636275 ],\n",
       "       [-1.4704337 , -0.47142089, -1.47244683],\n",
       "       [-1.4704337 , -0.47142089, -1.47244683],\n",
       "       [-1.4710215 , -0.45262954, -1.46950705],\n",
       "       [-1.47175625, -0.45289142, -1.47244683],\n",
       "       [-1.47168277, -0.45935375, -1.46950705],\n",
       "       [-1.47227057, -0.46319914, -1.47105044],\n",
       "       [-1.47212362, -0.44605622, -1.46818415],\n",
       "       [-1.47212362, -0.49979701, -1.47244683],\n",
       "       [-1.47469525, -0.48464202, -1.47244683]])"
      ]
     },
     "execution_count": 656,
     "metadata": {},
     "output_type": "execute_result"
    }
   ],
   "source": [
    "x_train[0]"
   ]
  },
  {
   "cell_type": "code",
   "execution_count": 657,
   "id": "15d321cd-4345-4102-86f2-dfa67b3b3055",
   "metadata": {},
   "outputs": [
    {
     "data": {
      "text/html": [
       "<div>\n",
       "<style scoped>\n",
       "    .dataframe tbody tr th:only-of-type {\n",
       "        vertical-align: middle;\n",
       "    }\n",
       "\n",
       "    .dataframe tbody tr th {\n",
       "        vertical-align: top;\n",
       "    }\n",
       "\n",
       "    .dataframe thead th {\n",
       "        text-align: right;\n",
       "    }\n",
       "</style>\n",
       "<table border=\"1\" class=\"dataframe\">\n",
       "  <thead>\n",
       "    <tr style=\"text-align: right;\">\n",
       "      <th></th>\n",
       "      <th>Open</th>\n",
       "    </tr>\n",
       "  </thead>\n",
       "  <tbody>\n",
       "    <tr>\n",
       "      <th>20</th>\n",
       "      <td>-1.484941</td>\n",
       "    </tr>\n",
       "  </tbody>\n",
       "</table>\n",
       "</div>"
      ],
      "text/plain": [
       "        Open\n",
       "20 -1.484941"
      ]
     },
     "execution_count": 657,
     "metadata": {},
     "output_type": "execute_result"
    }
   ],
   "source": [
    "y_train[0]"
   ]
  },
  {
   "cell_type": "code",
   "execution_count": 658,
   "id": "aef4c488-95fb-4713-aaf2-ab031853a567",
   "metadata": {},
   "outputs": [],
   "source": [
    "y_train=np.array(y_train)"
   ]
  },
  {
   "cell_type": "code",
   "execution_count": 659,
   "id": "d2d2835c-35a8-495c-bf5a-be0bccf0077e",
   "metadata": {},
   "outputs": [],
   "source": [
    "model=Sequential()"
   ]
  },
  {
   "cell_type": "code",
   "execution_count": 660,
   "id": "6574d9a6-7411-44ee-97d9-12005e2de6c3",
   "metadata": {},
   "outputs": [],
   "source": [
    "model.add(LSTM(64,activation='relu',input_shape=(20,3),return_sequences=True))\n",
    "model.add(LSTM(32,activation='relu',return_sequences=False))\n",
    "#model.add(LSTM(16,activation='relu',return_sequences=False))\n",
    "#model.add(Dense(20),activation='relu')\n",
    "model.add(Dense(1))\n",
    "\n",
    "          "
   ]
  },
  {
   "cell_type": "code",
   "execution_count": 661,
   "id": "826c600c-44e6-4a26-bf6e-6f1b349423f6",
   "metadata": {},
   "outputs": [],
   "source": [
    "model.compile(optimizer='adam',loss='mse')"
   ]
  },
  {
   "cell_type": "code",
   "execution_count": 662,
   "id": "c0ded6e7-84d0-4361-93bc-8a160c4140bb",
   "metadata": {},
   "outputs": [
    {
     "name": "stdout",
     "output_type": "stream",
     "text": [
      "Model: \"sequential_5\"\n",
      "_________________________________________________________________\n",
      " Layer (type)                Output Shape              Param #   \n",
      "=================================================================\n",
      " lstm_10 (LSTM)              (None, 20, 64)            17408     \n",
      "                                                                 \n",
      " lstm_11 (LSTM)              (None, 32)                12416     \n",
      "                                                                 \n",
      " dense_5 (Dense)             (None, 1)                 33        \n",
      "                                                                 \n",
      "=================================================================\n",
      "Total params: 29,857\n",
      "Trainable params: 29,857\n",
      "Non-trainable params: 0\n",
      "_________________________________________________________________\n"
     ]
    }
   ],
   "source": [
    "model.summary()"
   ]
  },
  {
   "cell_type": "code",
   "execution_count": 663,
   "id": "8033c0cf-57ee-412e-9ce8-0144c727107d",
   "metadata": {},
   "outputs": [
    {
     "name": "stdout",
     "output_type": "stream",
     "text": [
      "Epoch 1/10\n",
      "121/121 [==============================] - 7s 24ms/step - loss: 0.1122 - val_loss: 0.0032\n",
      "Epoch 2/10\n",
      "121/121 [==============================] - 2s 20ms/step - loss: 0.0151 - val_loss: 0.0018\n",
      "Epoch 3/10\n",
      "121/121 [==============================] - 2s 19ms/step - loss: 0.0104 - val_loss: 0.0020\n",
      "Epoch 4/10\n",
      "121/121 [==============================] - 2s 20ms/step - loss: 0.0093 - val_loss: 0.0015\n",
      "Epoch 5/10\n",
      "121/121 [==============================] - 2s 19ms/step - loss: 0.0087 - val_loss: 0.0017\n",
      "Epoch 6/10\n",
      "121/121 [==============================] - 2s 20ms/step - loss: 0.0080 - val_loss: 0.0012\n",
      "Epoch 7/10\n",
      "121/121 [==============================] - 2s 20ms/step - loss: 0.0080 - val_loss: 0.0014\n",
      "Epoch 8/10\n",
      "121/121 [==============================] - 2s 20ms/step - loss: 0.0072 - val_loss: 0.0020\n",
      "Epoch 9/10\n",
      "121/121 [==============================] - 3s 21ms/step - loss: 0.0069 - val_loss: 0.0012\n",
      "Epoch 10/10\n",
      "121/121 [==============================] - 3s 21ms/step - loss: 0.0068 - val_loss: 0.0015\n"
     ]
    },
    {
     "data": {
      "text/plain": [
       "<keras.callbacks.History at 0x2e7a20dceb0>"
      ]
     },
     "execution_count": 663,
     "metadata": {},
     "output_type": "execute_result"
    }
   ],
   "source": [
    "model.fit(x_train,y_train,batch_size=32, epochs=10,validation_split=0.2)"
   ]
  },
  {
   "cell_type": "code",
   "execution_count": 664,
   "id": "279fd45a-8288-48d9-bd7b-f8229f93e304",
   "metadata": {},
   "outputs": [],
   "source": [
    "x_test=[]\n",
    "y_test=[]"
   ]
  },
  {
   "cell_type": "code",
   "execution_count": null,
   "id": "8d121b54-2f0a-42ef-8e95-79c61f81ead7",
   "metadata": {},
   "outputs": [],
   "source": []
  },
  {
   "cell_type": "code",
   "execution_count": 665,
   "id": "4cbcfa1c-995b-4a4b-b013-a4c66d5c7688",
   "metadata": {},
   "outputs": [],
   "source": [
    "for i in range(no_d_past,len(test_df)-no_d_future+1):\n",
    "    x_test.append(test_df.iloc[i-no_d_past:i,0:3])\n",
    "    y_test.append(test_df.iloc[i+no_d_future-1:i+no_d_future,2])"
   ]
  },
  {
   "cell_type": "code",
   "execution_count": 666,
   "id": "2a7bc998-6d0b-46c8-a65d-2953e04a4aea",
   "metadata": {},
   "outputs": [
    {
     "name": "stdout",
     "output_type": "stream",
     "text": [
      "38/38 [==============================] - 1s 8ms/step\n"
     ]
    }
   ],
   "source": [
    "pred_values=model.predict(np.array(x_test))"
   ]
  },
  {
   "cell_type": "code",
   "execution_count": 667,
   "id": "f37cc015-9d68-4a5e-84a9-d479840f8aa2",
   "metadata": {},
   "outputs": [],
   "source": [
    "actual_values=list(np.array(y_test))"
   ]
  },
  {
   "cell_type": "code",
   "execution_count": 668,
   "id": "ff908a2a-f06f-4a84-9a7f-bd9f5fffc9f3",
   "metadata": {},
   "outputs": [],
   "source": [
    "df=pd.DataFrame()"
   ]
  },
  {
   "cell_type": "code",
   "execution_count": 669,
   "id": "1026afcf-9999-4c77-a08f-4e607436519c",
   "metadata": {},
   "outputs": [],
   "source": [
    "df['actual']=list(np.array(y_test))"
   ]
  },
  {
   "cell_type": "code",
   "execution_count": 670,
   "id": "6165ed30-496a-46d2-b152-8110947f9583",
   "metadata": {},
   "outputs": [],
   "source": [
    "df['predicted_values']=pred_values"
   ]
  },
  {
   "cell_type": "code",
   "execution_count": 671,
   "id": "13174a82-3e33-49ff-a971-b55c963c4246",
   "metadata": {},
   "outputs": [
    {
     "data": {
      "text/plain": [
       "array([[-0.1905912 ],\n",
       "       [-0.2053616 ],\n",
       "       [-0.21814333],\n",
       "       ...,\n",
       "       [ 0.36083367],\n",
       "       [ 0.32616082],\n",
       "       [ 0.28594607]], dtype=float32)"
      ]
     },
     "execution_count": 671,
     "metadata": {},
     "output_type": "execute_result"
    }
   ],
   "source": [
    "pred_values"
   ]
  },
  {
   "cell_type": "code",
   "execution_count": 672,
   "id": "0199f163-1ece-4b65-b9ee-203017ed490e",
   "metadata": {},
   "outputs": [],
   "source": [
    "import numpy as np"
   ]
  },
  {
   "cell_type": "code",
   "execution_count": 673,
   "id": "d7763c48-4371-4f01-8317-f0c1206d4c9e",
   "metadata": {},
   "outputs": [
    {
     "data": {
      "text/plain": [
       "array([0.82042868])"
      ]
     },
     "execution_count": 673,
     "metadata": {},
     "output_type": "execute_result"
    }
   ],
   "source": [
    "actual_rmse=np.sqrt(np.mean(np.square(df['actual'])))\n",
    "actual_rmse"
   ]
  },
  {
   "cell_type": "code",
   "execution_count": 674,
   "id": "411fdd4b-0dab-49e5-a3ba-8747d97ffc45",
   "metadata": {},
   "outputs": [],
   "source": [
    "pred_rmse=np.sqrt(np.mean(np.square(pred_values)))"
   ]
  },
  {
   "cell_type": "code",
   "execution_count": 675,
   "id": "29eab1d7-8cc0-4de0-adaf-21b7790ca705",
   "metadata": {},
   "outputs": [
    {
     "data": {
      "text/plain": [
       "0.86598366"
      ]
     },
     "execution_count": 675,
     "metadata": {},
     "output_type": "execute_result"
    }
   ],
   "source": [
    "pred_rmse"
   ]
  },
  {
   "cell_type": "code",
   "execution_count": 676,
   "id": "c6652438-df0b-4c8c-a9a9-3c776a00fbe9",
   "metadata": {},
   "outputs": [
    {
     "data": {
      "text/plain": [
       "[<matplotlib.lines.Line2D at 0x2e7aded3f40>]"
      ]
     },
     "execution_count": 676,
     "metadata": {},
     "output_type": "execute_result"
    },
    {
     "data": {
      "image/png": "[encoded data removed]",
      "text/plain": [
       "<Figure size 720x720 with 1 Axes>"
      ]
     },
     "metadata": {
      "needs_background": "light"
     },
     "output_type": "display_data"
    }
   ],
   "source": [
    "plt.figure(figsize=(10,10))\n",
    "plt.plot(df['actual'],color='blue',label='actual_values')\n",
    "plt.plot(df['predicted_values'],color='red',label='predicted_values')\n"
   ]
  },
  {
   "cell_type": "code",
   "execution_count": 677,
   "id": "0f9b5186-8be9-4b0e-8aa5-22991788f9af",
   "metadata": {},
   "outputs": [],
   "source": [
    "n_day_for_pre=30"
   ]
  },
  {
   "cell_type": "code",
   "execution_count": 678,
   "id": "21610c89-6bf4-4dab-9431-f0d9fc76b89c",
   "metadata": {},
   "outputs": [],
   "source": [
    "forcast_dates=pd.date_range(start='2020-05-27',periods=n_day_for_pre,freq='1d')"
   ]
  },
  {
   "cell_type": "code",
   "execution_count": 679,
   "id": "49209184-b820-4946-a1c2-1d56c59b3bbf",
   "metadata": {},
   "outputs": [],
   "source": [
    "focast=list(forcast_dates)"
   ]
  },
  {
   "cell_type": "code",
   "execution_count": 680,
   "id": "f689ba8d-a3d3-4ae9-9f07-ac8d5e501962",
   "metadata": {},
   "outputs": [
    {
     "name": "stdout",
     "output_type": "stream",
     "text": [
      "1/1 [==============================] - 0s 139ms/step\n"
     ]
    }
   ],
   "source": [
    "forcast = model.predict(np.array(x_test)[-30:])"
   ]
  },
  {
   "cell_type": "code",
   "execution_count": 681,
   "id": "bbef7f19-d1c8-4e65-bf25-ca5fa83bddb6",
   "metadata": {},
   "outputs": [],
   "source": [
    "values=list(forcast)"
   ]
  },
  {
   "cell_type": "code",
   "execution_count": 682,
   "id": "e5e6b318-0ad4-42e5-b553-680f445a8dfd",
   "metadata": {},
   "outputs": [],
   "source": [
    "values=np.repeat(values,3,axis=-1)"
   ]
  },
  {
   "cell_type": "code",
   "execution_count": null,
   "id": "50ce24e6-7c45-412f-af64-498be2b7025e",
   "metadata": {},
   "outputs": [],
   "source": []
  },
  {
   "cell_type": "code",
   "execution_count": 683,
   "id": "2c50fc02-472b-4d6b-b858-72479561e519",
   "metadata": {},
   "outputs": [],
   "source": [
    "actual_values=std_df.inverse_transform(values)"
   ]
  },
  {
   "cell_type": "code",
   "execution_count": null,
   "id": "ac117a1a-5bbd-48ef-8aee-dfcdd368e5cb",
   "metadata": {},
   "outputs": [],
   "source": []
  },
  {
   "cell_type": "code",
   "execution_count": 684,
   "id": "81203707-54fe-4cb6-a7f7-994355cfe77b",
   "metadata": {},
   "outputs": [],
   "source": [
    "forcast_df=pd.DataFrame()"
   ]
  },
  {
   "cell_type": "code",
   "execution_count": 685,
   "id": "3ad5257e-e63a-4868-a39d-a863ccace73b",
   "metadata": {},
   "outputs": [],
   "source": [
    "forcast_df['dates']=pd.Series(forcast_dates)"
   ]
  },
  {
   "cell_type": "code",
   "execution_count": 686,
   "id": "a29850a9-bf4d-42f2-8729-4c4bc96d415c",
   "metadata": {},
   "outputs": [],
   "source": [
    "forcast_df['values']=actual_values[:,[0]]"
   ]
  },
  {
   "cell_type": "code",
   "execution_count": 687,
   "id": "50f02b98-5ba7-4edb-abcb-eeb0cfcfc98e",
   "metadata": {},
   "outputs": [],
   "source": [
    "forcast_df['dates']=pd.to_datetime(forcast_df['dates'])"
   ]
  },
  {
   "cell_type": "code",
   "execution_count": 688,
   "id": "756b7ae9-268b-4df3-9e04-420fea581400",
   "metadata": {},
   "outputs": [
    {
     "data": {
      "text/plain": [
       "[<matplotlib.lines.Line2D at 0x2e7ae0c9160>]"
      ]
     },
     "execution_count": 688,
     "metadata": {},
     "output_type": "execute_result"
    },
    {
     "data": {
      "image/png": "[encoded data removed]",
      "text/plain": [
       "<Figure size 432x288 with 1 Axes>"
      ]
     },
     "metadata": {
      "needs_background": "light"
     },
     "output_type": "display_data"
    }
   ],
   "source": [
    "\n",
    "plt.plot(forcast_df['values'])"
   ]
  },
  {
   "cell_type": "markdown",
   "id": "887e5a9a-5954-4e32-b4dd-afbfe7fb62bc",
   "metadata": {},
   "source": [
    "### using Sentiment scores"
   ]
  },
  {
   "cell_type": "code",
   "execution_count": 689,
   "id": "172ad5fb-fa0b-4678-a5f6-1b4ac4ce2395",
   "metadata": {},
   "outputs": [],
   "source": [
    "final_df1=final_df.iloc[:,:]"
   ]
  },
  {
   "cell_type": "code",
   "execution_count": 690,
   "id": "383d7487-f754-4eec-9ab0-f4c1434925f9",
   "metadata": {},
   "outputs": [],
   "source": [
    "from sklearn.preprocessing import StandardScaler"
   ]
  },
  {
   "cell_type": "code",
   "execution_count": 691,
   "id": "3ffcd637-daef-4912-8a04-ed87dacdcf5a",
   "metadata": {},
   "outputs": [],
   "source": [
    "scaler=StandardScaler()"
   ]
  },
  {
   "cell_type": "code",
   "execution_count": 692,
   "id": "0f82fb52-b07a-47d3-b51f-b7d312f4907d",
   "metadata": {},
   "outputs": [],
   "source": [
    "scaled_df=scaler.fit_transform(final_df1)"
   ]
  },
  {
   "cell_type": "code",
   "execution_count": 693,
   "id": "24113a9f-9d65-4867-a3c8-aad42d2456ee",
   "metadata": {},
   "outputs": [],
   "source": [
    "df3=pd.DataFrame(scaled_df)"
   ]
  },
  {
   "cell_type": "code",
   "execution_count": 694,
   "id": "06ebc8d3-1693-4bd0-b9b5-03cae4ae94e2",
   "metadata": {},
   "outputs": [],
   "source": [
    "a=list(final_df1.columns)"
   ]
  },
  {
   "cell_type": "code",
   "execution_count": 695,
   "id": "d8ddd7b8-e35b-45aa-b5b1-ec8300282523",
   "metadata": {},
   "outputs": [],
   "source": [
    "df3.columns=a"
   ]
  },
  {
   "cell_type": "code",
   "execution_count": 696,
   "id": "30417dd6-00b4-40ae-9198-a598a6d961c5",
   "metadata": {},
   "outputs": [],
   "source": [
    "train_df=df3.iloc[0:4854,::]"
   ]
  },
  {
   "cell_type": "code",
   "execution_count": 697,
   "id": "23ebd04f-5ef8-4bb1-a538-c491d0c36849",
   "metadata": {},
   "outputs": [],
   "source": [
    "test_df=df3.iloc[4854 : ,::]"
   ]
  },
  {
   "cell_type": "code",
   "execution_count": 698,
   "id": "24ae1e19-9305-4a8f-941c-34956bf3c7b5",
   "metadata": {},
   "outputs": [],
   "source": [
    "x_train=[]\n",
    "y_train=[]"
   ]
  },
  {
   "cell_type": "code",
   "execution_count": 699,
   "id": "489c34e1-3874-46e0-9473-d0186483ca8c",
   "metadata": {},
   "outputs": [],
   "source": [
    "no_d_future=1\n",
    "no_d_past=20"
   ]
  },
  {
   "cell_type": "code",
   "execution_count": 700,
   "id": "2b6e1ca6-e24d-4c82-add6-a2c6af0d44b4",
   "metadata": {},
   "outputs": [],
   "source": [
    "for i  in range(no_d_past,len(train_df)-no_d_future+1):\n",
    "    x_train.append(train_df.iloc[i-no_d_past:i,0:4])\n",
    "    y_train.append(train_df.iloc[i+no_d_future-1:i+no_d_future,[2]])"
   ]
  },
  {
   "cell_type": "code",
   "execution_count": 701,
   "id": "562a3d83-a302-4d7d-9331-e42e1e6ca488",
   "metadata": {},
   "outputs": [],
   "source": [
    "x_train=np.array(x_train)\n",
    "y_train=np.array(y_train)\n"
   ]
  },
  {
   "cell_type": "code",
   "execution_count": 702,
   "id": "aed3a543-e912-464a-bd12-0c8c6b211ec3",
   "metadata": {},
   "outputs": [],
   "source": [
    "model=Sequential()"
   ]
  },
  {
   "cell_type": "code",
   "execution_count": 703,
   "id": "a1a832b6-666d-4bd5-af91-d84950dd4b84",
   "metadata": {},
   "outputs": [],
   "source": [
    "model.add(LSTM(64,activation='relu',input_shape=(20,4),return_sequences=True))\n",
    "model.add(LSTM(32,activation='relu',return_sequences=False))\n",
    "#model.add(LSTM(16,activation='relu',return_sequences=False))\n",
    "#model.add(Dense(20),activation='relu')\n",
    "model.add(Dense(1))\n"
   ]
  },
  {
   "cell_type": "code",
   "execution_count": 704,
   "id": "9d8ce724-eb7e-4370-9ad4-7ccd5ba8ba76",
   "metadata": {},
   "outputs": [],
   "source": [
    "model.compile(optimizer='adam',loss='mse')"
   ]
  },
  {
   "cell_type": "code",
   "execution_count": 705,
   "id": "92bc056c-68ae-43be-a2a7-7a518daa02b6",
   "metadata": {},
   "outputs": [
    {
     "name": "stdout",
     "output_type": "stream",
     "text": [
      "Epoch 1/10\n",
      "121/121 [==============================] - 8s 24ms/step - loss: 0.1444 - val_loss: 0.0086\n",
      "Epoch 2/10\n",
      "121/121 [==============================] - 2s 19ms/step - loss: 0.0166 - val_loss: 0.0048\n",
      "Epoch 3/10\n",
      "121/121 [==============================] - 2s 19ms/step - loss: 0.0126 - val_loss: 0.0028\n",
      "Epoch 4/10\n",
      "121/121 [==============================] - 2s 20ms/step - loss: 0.0100 - val_loss: 0.0020\n",
      "Epoch 5/10\n",
      "121/121 [==============================] - 2s 19ms/step - loss: 0.0105 - val_loss: 0.0018\n",
      "Epoch 6/10\n",
      "121/121 [==============================] - 2s 19ms/step - loss: 0.0095 - val_loss: 0.0030\n",
      "Epoch 7/10\n",
      "121/121 [==============================] - 2s 19ms/step - loss: 0.0085 - val_loss: 0.0015\n",
      "Epoch 8/10\n",
      "121/121 [==============================] - 2s 20ms/step - loss: 0.0081 - val_loss: 0.0017\n",
      "Epoch 9/10\n",
      "121/121 [==============================] - 2s 21ms/step - loss: 0.0079 - val_loss: 0.0014\n",
      "Epoch 10/10\n",
      "121/121 [==============================] - 2s 19ms/step - loss: 0.0066 - val_loss: 0.0013\n"
     ]
    },
    {
     "data": {
      "text/plain": [
       "<keras.callbacks.History at 0x2e7b3557cd0>"
      ]
     },
     "execution_count": 705,
     "metadata": {},
     "output_type": "execute_result"
    }
   ],
   "source": [
    "model.fit(x_train,y_train,batch_size=32, epochs=10,validation_split=0.2)"
   ]
  },
  {
   "cell_type": "code",
   "execution_count": 706,
   "id": "9bf0e490-10b5-4020-8dc2-2549908a4a95",
   "metadata": {},
   "outputs": [],
   "source": [
    "x_test=[]\n",
    "y_test=[]"
   ]
  },
  {
   "cell_type": "code",
   "execution_count": 707,
   "id": "8898751b-d461-4de1-96a9-36b5e08744ae",
   "metadata": {},
   "outputs": [],
   "source": [
    "for i  in range(no_d_past,len(test_df)-no_d_future+1):\n",
    "    x_test.append(test_df.iloc[i-no_d_past:i,0:4])\n",
    "    y_test.append(test_df.iloc[i+no_d_future-1:i+no_d_future,2])"
   ]
  },
  {
   "cell_type": "code",
   "execution_count": 708,
   "id": "fdbb9ec8-8b0d-47de-842c-c707c2d634bc",
   "metadata": {},
   "outputs": [
    {
     "name": "stdout",
     "output_type": "stream",
     "text": [
      "38/38 [==============================] - 1s 8ms/step\n"
     ]
    }
   ],
   "source": [
    "pred_values_with_S=model.predict(np.array(x_test))"
   ]
  },
  {
   "cell_type": "code",
   "execution_count": 709,
   "id": "b133cf44-f4f2-4e4d-953f-dfa8bd7e5099",
   "metadata": {},
   "outputs": [],
   "source": [
    "actual_values=list(np.array(y_test))"
   ]
  },
  {
   "cell_type": "code",
   "execution_count": 710,
   "id": "8ca3d30d-401c-49f1-b6bf-cabe0845f908",
   "metadata": {},
   "outputs": [],
   "source": [
    "df['pred_values_with_S']=pred_values_with_S"
   ]
  },
  {
   "cell_type": "code",
   "execution_count": 711,
   "id": "e6e1bd41-bfd0-41cb-9fc2-a045007c3632",
   "metadata": {},
   "outputs": [
    {
     "data": {
      "text/html": [
       "<div>\n",
       "<style scoped>\n",
       "    .dataframe tbody tr th:only-of-type {\n",
       "        vertical-align: middle;\n",
       "    }\n",
       "\n",
       "    .dataframe tbody tr th {\n",
       "        vertical-align: top;\n",
       "    }\n",
       "\n",
       "    .dataframe thead th {\n",
       "        text-align: right;\n",
       "    }\n",
       "</style>\n",
       "<table border=\"1\" class=\"dataframe\">\n",
       "  <thead>\n",
       "    <tr style=\"text-align: right;\">\n",
       "      <th></th>\n",
       "      <th>actual</th>\n",
       "      <th>predicted_values</th>\n",
       "      <th>pred_values_with_S</th>\n",
       "    </tr>\n",
       "  </thead>\n",
       "  <tbody>\n",
       "    <tr>\n",
       "      <th>0</th>\n",
       "      <td>[-0.23656406945191613]</td>\n",
       "      <td>-0.190591</td>\n",
       "      <td>-0.201490</td>\n",
       "    </tr>\n",
       "    <tr>\n",
       "      <th>1</th>\n",
       "      <td>[-0.23671105836280112]</td>\n",
       "      <td>-0.205362</td>\n",
       "      <td>-0.219102</td>\n",
       "    </tr>\n",
       "    <tr>\n",
       "      <th>2</th>\n",
       "      <td>[-0.2318604243035914]</td>\n",
       "      <td>-0.218143</td>\n",
       "      <td>-0.222432</td>\n",
       "    </tr>\n",
       "    <tr>\n",
       "      <th>3</th>\n",
       "      <td>[-0.2318604243035914]</td>\n",
       "      <td>-0.225076</td>\n",
       "      <td>-0.222844</td>\n",
       "    </tr>\n",
       "    <tr>\n",
       "      <th>4</th>\n",
       "      <td>[-0.2318604243035914]</td>\n",
       "      <td>-0.229344</td>\n",
       "      <td>-0.241359</td>\n",
       "    </tr>\n",
       "    <tr>\n",
       "      <th>...</th>\n",
       "      <td>...</td>\n",
       "      <td>...</td>\n",
       "      <td>...</td>\n",
       "    </tr>\n",
       "    <tr>\n",
       "      <th>1189</th>\n",
       "      <td>[0.2546728707262385]</td>\n",
       "      <td>0.391742</td>\n",
       "      <td>0.303174</td>\n",
       "    </tr>\n",
       "    <tr>\n",
       "      <th>1190</th>\n",
       "      <td>[0.3765266778500238]</td>\n",
       "      <td>0.369082</td>\n",
       "      <td>0.300593</td>\n",
       "    </tr>\n",
       "    <tr>\n",
       "      <th>1191</th>\n",
       "      <td>[0.3017093222094849]</td>\n",
       "      <td>0.360834</td>\n",
       "      <td>0.305033</td>\n",
       "    </tr>\n",
       "    <tr>\n",
       "      <th>1192</th>\n",
       "      <td>[0.2046966410252892]</td>\n",
       "      <td>0.326161</td>\n",
       "      <td>0.267926</td>\n",
       "    </tr>\n",
       "    <tr>\n",
       "      <th>1193</th>\n",
       "      <td>[0.20028697369873485]</td>\n",
       "      <td>0.285946</td>\n",
       "      <td>0.229211</td>\n",
       "    </tr>\n",
       "  </tbody>\n",
       "</table>\n",
       "<p>1194 rows × 3 columns</p>\n",
       "</div>"
      ],
      "text/plain": [
       "                      actual  predicted_values  pred_values_with_S\n",
       "0     [-0.23656406945191613]         -0.190591           -0.201490\n",
       "1     [-0.23671105836280112]         -0.205362           -0.219102\n",
       "2      [-0.2318604243035914]         -0.218143           -0.222432\n",
       "3      [-0.2318604243035914]         -0.225076           -0.222844\n",
       "4      [-0.2318604243035914]         -0.229344           -0.241359\n",
       "...                      ...               ...                 ...\n",
       "1189    [0.2546728707262385]          0.391742            0.303174\n",
       "1190    [0.3765266778500238]          0.369082            0.300593\n",
       "1191    [0.3017093222094849]          0.360834            0.305033\n",
       "1192    [0.2046966410252892]          0.326161            0.267926\n",
       "1193   [0.20028697369873485]          0.285946            0.229211\n",
       "\n",
       "[1194 rows x 3 columns]"
      ]
     },
     "execution_count": 711,
     "metadata": {},
     "output_type": "execute_result"
    }
   ],
   "source": [
    "df"
   ]
  },
  {
   "cell_type": "code",
   "execution_count": 712,
   "id": "a027aa15-dc9c-441a-b42b-9ae4979e7aae",
   "metadata": {},
   "outputs": [
    {
     "data": {
      "text/plain": [
       "array([0.82042868])"
      ]
     },
     "execution_count": 712,
     "metadata": {},
     "output_type": "execute_result"
    }
   ],
   "source": [
    "actual_rmse=np.sqrt(np.mean(np.square(df['actual'])))\n",
    "actual_rmse"
   ]
  },
  {
   "cell_type": "code",
   "execution_count": 713,
   "id": "9b4f287e-9016-4a99-a25e-894236565ffd",
   "metadata": {},
   "outputs": [],
   "source": [
    "rmse_pred_values_with_S=np.sqrt(np.mean(np.square(pred_values_with_S)))"
   ]
  },
  {
   "cell_type": "code",
   "execution_count": 714,
   "id": "8aed2086-aaa5-4820-aedc-ac5a3cd9741c",
   "metadata": {},
   "outputs": [
    {
     "data": {
      "text/plain": [
       "0.80948037"
      ]
     },
     "execution_count": 714,
     "metadata": {},
     "output_type": "execute_result"
    }
   ],
   "source": [
    "rmse_pred_values_with_S"
   ]
  },
  {
   "cell_type": "code",
   "execution_count": 715,
   "id": "0c88135a-ca1a-4f8d-9a9f-61026c49c412",
   "metadata": {},
   "outputs": [
    {
     "data": {
      "text/plain": [
       "[<matplotlib.lines.Line2D at 0x2e7ae54fe20>]"
      ]
     },
     "execution_count": 715,
     "metadata": {},
     "output_type": "execute_result"
    },
    {
     "data": {
      "image/png": "[encoded data removed]",
      "text/plain": [
       "<Figure size 720x720 with 1 Axes>"
      ]
     },
     "metadata": {
      "needs_background": "light"
     },
     "output_type": "display_data"
    }
   ],
   "source": [
    "plt.figure(figsize=(10,10))\n",
    "plt.plot(df['actual'],color='blue',label='actual_values')\n",
    "plt.plot(df['pred_values_with_S'],label='pred_values_with_S',color='red')"
   ]
  },
  {
   "cell_type": "code",
   "execution_count": null,
   "id": "74f1953b-fd9f-49e9-88f3-663110bbfc38",
   "metadata": {},
   "outputs": [],
   "source": []
  },
  {
   "cell_type": "code",
   "execution_count": null,
   "id": "ad1b86be-c1b3-433a-b1a5-ea7a6798c2df",
   "metadata": {},
   "outputs": [],
   "source": []
  }
 ],
 "metadata": {
  "kernelspec": {
   "display_name": "Python 3 (ipykernel)",
   "language": "python",
   "name": "python3"
  },
  "language_info": {
   "codemirror_mode": {
    "name": "ipython",
    "version": 3
   },
   "file_extension": ".py",
   "mimetype": "text/x-python",
   "name": "python",
   "nbconvert_exporter": "python",
   "pygments_lexer": "ipython3",
   "version": "3.9.12"
  }
 },
 "nbformat": 4,
 "nbformat_minor": 5
}
